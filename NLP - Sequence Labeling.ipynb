{
 "cells": [
  {
   "cell_type": "markdown",
   "metadata": {},
   "source": [
    "# 데이터랩스 개발 과제(B) - NLP\n",
    "## 문제 1."
   ]
  },
  {
   "cell_type": "markdown",
   "metadata": {},
   "source": [
    "### __[요구사항]__\n",
    "2. 주어진 데이터를 어떻게 학습셋, 튜닝셋, 평가셋으로 나눴는지 설명해주세요.\n",
    "아울러 생성한 추출기의 성능을 평가하고, 평가 기준과 근거를 설명해주세요.\n",
    "3. 추출기를 생성할 때 어떤 기술을 적용하고 튜닝했는지 설명해주세요. 추가로\n",
    "본인이 개발한 추출기를 실제 서비스에 적용했을때 예상되는 문제점이 있는지,\n",
    "개선 할 부분이 있다면 무엇이 있을지, 고민한 부분이 있으시다면 기술해주세요.\n",
    "4. 프로그래밍 언어는 Python을 사용해주세요.(모델 학습 시 사용되는 외부\n",
    "라이브러리는 그 외의 언어여도 상관이 없음)"
   ]
  },
  {
   "cell_type": "markdown",
   "metadata": {},
   "source": [
    "### [개발환경]\n",
    "- 윈도우 10 Home Edition\n",
    "- Python 3.6\n",
    "- Tensorflow Backend\n",
    "- IDE: JupyterLab"
   ]
  },
  {
   "cell_type": "markdown",
   "metadata": {},
   "source": [
    "### [레퍼런스]\n",
    "다음 Github 코드를 참조하여 제작하였습니다.\n",
    "- <a href=\"https://github.com/yongyehuang/Tensorflow-Tutorial/blob/master/Tutorial_6%20-%20Bi-directional%20LSTM%20for%20sequence%20labeling%20(Chinese%20segmentation\\).ipynb\">Github 링크 (Bi-directional LSTM w/ Sequence Labeling)</a>"
   ]
  },
  {
   "cell_type": "markdown",
   "metadata": {},
   "source": [
    "### __[산출결과 예시]__\n",
    "- 소스 코드/모델\n",
    "    - 의견 추출기 모델\n",
    "    - 의견 추출기 및 관련된 기타 소스 코드\n",
    "    - 성능 평가 소스 코드\n",
    "- 문서\n",
    "    - 데이터 설명\n",
    "    - 프로그램 실행 요구사항\n",
    "    - 프로그램 실행 방법\n",
    "    - 문제 A, B, C에 대한 답변\n",
    "    - 키포인트\n",
    "    - 어려웠던 부분/해결 미흡한 부분(Hurdle Point)\n",
    "    - 레퍼런스"
   ]
  },
  {
   "cell_type": "code",
   "execution_count": 1,
   "metadata": {},
   "outputs": [
    {
     "name": "stderr",
     "output_type": "stream",
     "text": [
      "C:\\Users\\jungw\\Anaconda3\\lib\\site-packages\\h5py\\__init__.py:34: FutureWarning: Conversion of the second argument of issubdtype from `float` to `np.floating` is deprecated. In future, it will be treated as `np.float64 == np.dtype(float).type`.\n",
      "  from ._conv import register_converters as _register_converters\n"
     ]
    },
    {
     "name": "stdout",
     "output_type": "stream",
     "text": [
      "WARNING:tensorflow:From C:\\Users\\jungw\\Anaconda3\\lib\\site-packages\\tensorflow\\contrib\\learn\\python\\learn\\datasets\\base.py:198: retry (from tensorflow.contrib.learn.python.learn.datasets.base) is deprecated and will be removed in a future version.\n",
      "Instructions for updating:\n",
      "Use the retry module or similar alternatives.\n"
     ]
    }
   ],
   "source": [
    "import tensorflow as tf\n",
    "import numpy as np\n",
    "import time\n",
    "import codecs\n",
    "import pandas as pd\n",
    "import matplotlib.pyplot as plt\n",
    "from konlpy.tag import Twitter\n",
    "from tensorflow.contrib import rnn\n",
    "from tensorflow.python.keras.preprocessing import sequence\n",
    "\n",
    "\n",
    "%matplotlib inline\n",
    "%config InlineBackend.figure_format = 'svg'"
   ]
  },
  {
   "cell_type": "markdown",
   "metadata": {},
   "source": [
    "### 데이터 불러오기\n",
    "UTF-8 인코딩으로 Line별 불러오기를 실행"
   ]
  },
  {
   "cell_type": "code",
   "execution_count": 2,
   "metadata": {},
   "outputs": [],
   "source": [
    "# Read file\n",
    "def load_data(path, file):\n",
    "    target = path + file\n",
    "\n",
    "    with codecs.open(target, 'rb', encoding='utf-8') as f:\n",
    "        text = f.readlines()\n",
    "    return text"
   ]
  },
  {
   "cell_type": "code",
   "execution_count": 3,
   "metadata": {},
   "outputs": [],
   "source": [
    "path = 'problem_1/'\n",
    "file = 'buzzni_op_corpus.txt'\n",
    "\n",
    "text_lines = load_data(path, file)"
   ]
  },
  {
   "cell_type": "markdown",
   "metadata": {},
   "source": [
    "- 데이터 로드가 제대로 되었는지 확인"
   ]
  },
  {
   "cell_type": "code",
   "execution_count": 4,
   "metadata": {},
   "outputs": [
    {
     "name": "stdout",
     "output_type": "stream",
     "text": [
      "Line 0: ( 구매 ) [PUMA] 13'Summer DRYCELL 남성 반팔 티셔츠 3 종 넘 잘 구매한 것 같아요 . 디자인도 <op>예쁘고</op> .\n",
      "\n",
      "Line 1: ( 블랙 ) 좋아요 . 망설이 다 샀는데 마음에 드네요 잘 산거 같아요\n",
      "\n",
      "Line 2: 1 년은 입게 써요 10 장 알차게 착한 <op>가격에</op> 구입해서 흡족\n",
      "\n",
      "Line 3: 1 달 정도 사용했는데 피부가 <op>부드러워지고</op> 촉촉한 <op>느낌입니다</op> . 꾸준히 사용해 볼려구여 ^^\n",
      "\n",
      "Line 4: 1 박스만 뜯어 봣는데 여 ~ 듣던데로 정말 괜찮은 책 같습니다\n",
      "\n"
     ]
    }
   ],
   "source": [
    "# Test if it works\n",
    "for i in range(5):\n",
    "    print(\"Line {}: {}\".format(i, text_lines[i]))"
   ]
  },
  {
   "cell_type": "markdown",
   "metadata": {},
   "source": [
    "- 데이터 총 개수 확인"
   ]
  },
  {
   "cell_type": "code",
   "execution_count": 5,
   "metadata": {},
   "outputs": [
    {
     "data": {
      "text/plain": [
       "17000"
      ]
     },
     "execution_count": 5,
     "metadata": {},
     "output_type": "execute_result"
    }
   ],
   "source": [
    "len(text_lines)"
   ]
  },
  {
   "cell_type": "markdown",
   "metadata": {},
   "source": [
    "### 문장 Tokenizing\n",
    "문장을 공백문자를 기준으로 쪼개서 vocab dictionary를 제작하고 Indexing을 진행합니다."
   ]
  },
  {
   "cell_type": "markdown",
   "metadata": {},
   "source": [
    "- 문장에 대해 Vocab Pool 제작과 라벨링(Opinion인지의 여부)을 진행합니다."
   ]
  },
  {
   "cell_type": "code",
   "execution_count": 6,
   "metadata": {},
   "outputs": [],
   "source": [
    "# Tokenize sentences\n",
    "def labeling(text_lines):\n",
    "    listed_text = []\n",
    "    opinion = []\n",
    "    vocabs = [' UNK ']\n",
    "\n",
    "    for line in text_lines:    # Read Line\n",
    "        line_seperate = line.split(' ')\n",
    "        opinion_line_label = []\n",
    "        word_line_label = []\n",
    "\n",
    "        for word in line_seperate:    # Word by word\n",
    "            if \"<op>\" in word:\n",
    "                # Remove <op> and </op>\n",
    "                target = word.replace(\"<op>\", '')\n",
    "                target = target.replace(\"</op>\", '')\n",
    "                target = [target.strip()]    # Remove space & \\n\n",
    "\n",
    "                vocabs.extend(target)\n",
    "                opinion_line_label.append(1)    # Opinion Labeling\n",
    "                word_line_label.extend(target)\n",
    "            else:\n",
    "                target = [word.strip()]    # Remove space & \\n\n",
    "\n",
    "                vocabs.extend(target)\n",
    "                opinion_line_label.append(0)    # Non-opinion labeling\n",
    "                word_line_label.extend(target)\n",
    "\n",
    "        listed_text.append(word_line_label)\n",
    "        opinion.append(opinion_line_label)\n",
    "    \n",
    "    return listed_text, opinion, vocabs"
   ]
  },
  {
   "cell_type": "markdown",
   "metadata": {},
   "source": [
    "- Tokenizing: 문장을 Index로 나타내기 위해 Dictionary를 제작합니다."
   ]
  },
  {
   "cell_type": "code",
   "execution_count": 7,
   "metadata": {},
   "outputs": [],
   "source": [
    "def tokenize(vocabs):\n",
    "    vocabs = sorted(list(set(vocabs)))\n",
    "    vocab_size = len(vocabs)\n",
    "    vocab_ids = dict((c, i) for i, c in enumerate(vocabs))\n",
    "    ids_vocab = dict((i, c) for i, c in enumerate(vocabs))\n",
    "    \n",
    "    return vocabs, vocab_size, vocab_ids, ids_vocab"
   ]
  },
  {
   "cell_type": "code",
   "execution_count": 8,
   "metadata": {},
   "outputs": [],
   "source": [
    "text, opinion, raw_vocabs = labeling(text_lines)\n",
    "vocabs, vocab_size, vocab_ids, ids_vocab = tokenize(raw_vocabs)"
   ]
  },
  {
   "cell_type": "markdown",
   "metadata": {},
   "source": [
    "- 단어 전체 개수 확인"
   ]
  },
  {
   "cell_type": "code",
   "execution_count": 9,
   "metadata": {},
   "outputs": [
    {
     "data": {
      "text/plain": [
       "30452"
      ]
     },
     "execution_count": 9,
     "metadata": {},
     "output_type": "execute_result"
    }
   ],
   "source": [
    "len(vocabs)"
   ]
  },
  {
   "cell_type": "markdown",
   "metadata": {},
   "source": [
    "- 단어 형식 일부 확인"
   ]
  },
  {
   "cell_type": "code",
   "execution_count": 10,
   "metadata": {},
   "outputs": [
    {
     "name": "stdout",
     "output_type": "stream",
     "text": [
      "[' UNK ', '!', '!!', '!!*-*', '!!.', '!!1', '!!??', '!!^', '!!^^', '!!bb']\n"
     ]
    }
   ],
   "source": [
    "print(vocabs[:10])"
   ]
  },
  {
   "cell_type": "markdown",
   "metadata": {},
   "source": [
    "- 라벨링 확인"
   ]
  },
  {
   "cell_type": "code",
   "execution_count": 11,
   "metadata": {},
   "outputs": [
    {
     "name": "stdout",
     "output_type": "stream",
     "text": [
      "Line 0: [0, 0, 0, 0, 0, 0, 0, 0, 0, 0, 0, 0, 0, 0, 0, 0, 0, 0, 1, 0]\n",
      "\n",
      "Line 1: [0, 0, 0, 0, 0, 0, 0, 0, 0, 0, 0, 0, 0]\n",
      "\n",
      "Line 2: [0, 0, 0, 0, 0, 0, 0, 0, 1, 0, 0]\n",
      "\n",
      "Line 3: [0, 0, 0, 0, 0, 1, 0, 1, 0, 0, 0, 0, 0]\n",
      "\n",
      "Line 4: [0, 0, 0, 0, 0, 0, 0, 0, 0, 0, 0]\n",
      "\n"
     ]
    }
   ],
   "source": [
    "for i in range(5):\n",
    "    print(\"Line {}: {}\\n\".format(i, opinion[i]))"
   ]
  },
  {
   "cell_type": "markdown",
   "metadata": {},
   "source": [
    "- 문장 데이터 내의 Sequence의 최대 길이를 확인합니다."
   ]
  },
  {
   "cell_type": "code",
   "execution_count": 12,
   "metadata": {},
   "outputs": [
    {
     "name": "stdout",
     "output_type": "stream",
     "text": [
      "35\n"
     ]
    }
   ],
   "source": [
    "# Max Length check\n",
    "max_len = len(max(text, key=len))\n",
    "print(max_len)"
   ]
  },
  {
   "cell_type": "markdown",
   "metadata": {},
   "source": [
    "- 데이터 Tokenizing의 결과를 확인합니다."
   ]
  },
  {
   "cell_type": "code",
   "execution_count": 13,
   "metadata": {},
   "outputs": [
    {
     "name": "stdout",
     "output_type": "stream",
     "text": [
      "Line 0: ['(', '구매', ')', '[PUMA]', \"13'Summer\", 'DRYCELL', '남성', '반팔', '티셔츠', '3', '종', '넘', '잘', '구매한', '것', '같아요', '.', '디자인도', '예쁘고', '.']\n",
      "\n",
      "Line 1: ['(', '블랙', ')', '좋아요', '.', '망설이', '다', '샀는데', '마음에', '드네요', '잘', '산거', '같아요']\n",
      "\n",
      "Line 2: ['1', '년은', '입게', '써요', '10', '장', '알차게', '착한', '가격에', '구입해서', '흡족']\n",
      "\n",
      "Line 3: ['1', '달', '정도', '사용했는데', '피부가', '부드러워지고', '촉촉한', '느낌입니다', '.', '꾸준히', '사용해', '볼려구여', '^^']\n",
      "\n",
      "Line 4: ['1', '박스만', '뜯어', '봣는데', '여', '~', '듣던데로', '정말', '괜찮은', '책', '같습니다']\n",
      "\n"
     ]
    }
   ],
   "source": [
    "for i in range(5):\n",
    "    print(\"Line {}: {}\\n\".format(i, text[i]))"
   ]
  },
  {
   "cell_type": "markdown",
   "metadata": {},
   "source": [
    "- 데이터의 Indexing화 진행 (Numeric Value로의 전환을 위함)"
   ]
  },
  {
   "cell_type": "code",
   "execution_count": 14,
   "metadata": {},
   "outputs": [],
   "source": [
    "def data_2_idx(text, vocab_ids):\n",
    "    idx_text = []\n",
    "    for sentence in text:\n",
    "        indexes = []\n",
    "        for item in sentence:\n",
    "            indexes.append(vocab_ids[item])\n",
    "        idx_text.append(indexes)\n",
    "    return idx_text"
   ]
  },
  {
   "cell_type": "code",
   "execution_count": 15,
   "metadata": {},
   "outputs": [],
   "source": [
    "idx_text = data_2_idx(text, vocab_ids)"
   ]
  },
  {
   "cell_type": "markdown",
   "metadata": {},
   "source": [
    "- Indexing화 결과 체크"
   ]
  },
  {
   "cell_type": "code",
   "execution_count": 16,
   "metadata": {},
   "outputs": [
    {
     "name": "stdout",
     "output_type": "stream",
     "text": [
      "[37, 3093, 47, 474, 239, 417, 5068, 10914, 27493, 297, 23795, 5411, 22422, 3154, 2253, 1753, 89, 7680, 19788, 89]\n"
     ]
    }
   ],
   "source": [
    "print(idx_text[0])"
   ]
  },
  {
   "cell_type": "markdown",
   "metadata": {},
   "source": [
    "- 다음 항목에 대해 정보를 확인합니다.\n",
    "    - Opinion Labeling\n",
    "    - 단어 Tokenizing\n",
    "    - 데이터의 길이"
   ]
  },
  {
   "cell_type": "code",
   "execution_count": 17,
   "metadata": {},
   "outputs": [
    {
     "data": {
      "text/html": [
       "<div>\n",
       "<style>\n",
       "    .dataframe thead tr:only-child th {\n",
       "        text-align: right;\n",
       "    }\n",
       "\n",
       "    .dataframe thead th {\n",
       "        text-align: left;\n",
       "    }\n",
       "\n",
       "    .dataframe tbody tr th {\n",
       "        vertical-align: top;\n",
       "    }\n",
       "</style>\n",
       "<table border=\"1\" class=\"dataframe\">\n",
       "  <thead>\n",
       "    <tr style=\"text-align: right;\">\n",
       "      <th></th>\n",
       "      <th>tags</th>\n",
       "      <th>words</th>\n",
       "      <th>sentence_len</th>\n",
       "    </tr>\n",
       "  </thead>\n",
       "  <tbody>\n",
       "    <tr>\n",
       "      <th>0</th>\n",
       "      <td>[0, 0, 0, 0, 0, 0, 0, 0, 0, 0, 0, 0, 0, 0, 0, ...</td>\n",
       "      <td>[(, 구매, ), [PUMA], 13'Summer, DRYCELL, 남성, 반팔,...</td>\n",
       "      <td>20</td>\n",
       "    </tr>\n",
       "    <tr>\n",
       "      <th>1</th>\n",
       "      <td>[0, 0, 0, 0, 0, 0, 0, 0, 0, 0, 0, 0, 0]</td>\n",
       "      <td>[(, 블랙, ), 좋아요, ., 망설이, 다, 샀는데, 마음에, 드네요, 잘, 산...</td>\n",
       "      <td>13</td>\n",
       "    </tr>\n",
       "  </tbody>\n",
       "</table>\n",
       "</div>"
      ],
      "text/plain": [
       "                                                tags  \\\n",
       "0  [0, 0, 0, 0, 0, 0, 0, 0, 0, 0, 0, 0, 0, 0, 0, ...   \n",
       "1            [0, 0, 0, 0, 0, 0, 0, 0, 0, 0, 0, 0, 0]   \n",
       "\n",
       "                                               words  sentence_len  \n",
       "0  [(, 구매, ), [PUMA], 13'Summer, DRYCELL, 남성, 반팔,...            20  \n",
       "1  [(, 블랙, ), 좋아요, ., 망설이, 다, 샀는데, 마음에, 드네요, 잘, 산...            13  "
      ]
     },
     "execution_count": 17,
     "metadata": {},
     "output_type": "execute_result"
    }
   ],
   "source": [
    "df_data = pd.DataFrame({'words': text, 'tags': opinion}, index=range(len(text)))\n",
    "\n",
    "df_data['sentence_len'] = df_data['words'] \\\n",
    "    .apply(lambda vocabs: len(vocabs))\n",
    "df_data.head(2)"
   ]
  },
  {
   "cell_type": "markdown",
   "metadata": {},
   "source": [
    "- 문장의 길이를 기준으로 데이터가 어떻게 분포되어 있는지 살펴봅니다."
   ]
  },
  {
   "cell_type": "code",
   "execution_count": 18,
   "metadata": {},
   "outputs": [
    {
     "data": {
      "image/svg+xml": [
       "<?xml version=\"1.0\" encoding=\"utf-8\" standalone=\"no\"?>\r\n",
       "<!DOCTYPE svg PUBLIC \"-//W3C//DTD SVG 1.1//EN\"\r\n",
       "  \"http://www.w3.org/Graphics/SVG/1.1/DTD/svg11.dtd\">\r\n",
       "<!-- Created with matplotlib (http://matplotlib.org/) -->\r\n",
       "<svg height=\"277pt\" version=\"1.1\" viewBox=\"0 0 401 277\" width=\"401pt\" xmlns=\"http://www.w3.org/2000/svg\" xmlns:xlink=\"http://www.w3.org/1999/xlink\">\r\n",
       " <defs>\r\n",
       "  <style type=\"text/css\">\r\n",
       "*{stroke-linecap:butt;stroke-linejoin:round;}\r\n",
       "  </style>\r\n",
       " </defs>\r\n",
       " <g id=\"figure_1\">\r\n",
       "  <g id=\"patch_1\">\r\n",
       "   <path d=\"M 0 277.5925 \r\n",
       "L 401.690625 277.5925 \r\n",
       "L 401.690625 0 \r\n",
       "L 0 0 \r\n",
       "z\r\n",
       "\" style=\"fill:none;\"/>\r\n",
       "  </g>\r\n",
       "  <g id=\"axes_1\">\r\n",
       "   <g id=\"patch_2\">\r\n",
       "    <path d=\"M 53.328125 239.758125 \r\n",
       "L 388.128125 239.758125 \r\n",
       "L 388.128125 22.318125 \r\n",
       "L 53.328125 22.318125 \r\n",
       "z\r\n",
       "\" style=\"fill:#ffffff;\"/>\r\n",
       "   </g>\r\n",
       "   <g id=\"patch_3\">\r\n",
       "    <path clip-path=\"url(#pec9fbc4baa)\" d=\"M 61.698125 239.758125 \r\n",
       "L 68.812625 239.758125 \r\n",
       "L 68.812625 238.560328 \r\n",
       "L 61.698125 238.560328 \r\n",
       "z\r\n",
       "\" style=\"fill:#1f77b4;\"/>\r\n",
       "   </g>\r\n",
       "   <g id=\"patch_4\">\r\n",
       "    <path clip-path=\"url(#pec9fbc4baa)\" d=\"M 68.812625 239.758125 \r\n",
       "L 75.927125 239.758125 \r\n",
       "L 75.927125 239.225771 \r\n",
       "L 68.812625 239.225771 \r\n",
       "z\r\n",
       "\" style=\"fill:#1f77b4;\"/>\r\n",
       "   </g>\r\n",
       "   <g id=\"patch_5\">\r\n",
       "    <path clip-path=\"url(#pec9fbc4baa)\" d=\"M 75.927125 239.758125 \r\n",
       "L 83.041625 239.758125 \r\n",
       "L 83.041625 239.758125 \r\n",
       "L 75.927125 239.758125 \r\n",
       "z\r\n",
       "\" style=\"fill:#1f77b4;\"/>\r\n",
       "   </g>\r\n",
       "   <g id=\"patch_6\">\r\n",
       "    <path clip-path=\"url(#pec9fbc4baa)\" d=\"M 83.041625 239.758125 \r\n",
       "L 90.156125 239.758125 \r\n",
       "L 90.156125 237.628709 \r\n",
       "L 83.041625 237.628709 \r\n",
       "z\r\n",
       "\" style=\"fill:#1f77b4;\"/>\r\n",
       "   </g>\r\n",
       "   <g id=\"patch_7\">\r\n",
       "    <path clip-path=\"url(#pec9fbc4baa)\" d=\"M 90.156125 239.758125 \r\n",
       "L 97.270625 239.758125 \r\n",
       "L 97.270625 201.694812 \r\n",
       "L 90.156125 201.694812 \r\n",
       "z\r\n",
       "\" style=\"fill:#1f77b4;\"/>\r\n",
       "   </g>\r\n",
       "   <g id=\"patch_8\">\r\n",
       "    <path clip-path=\"url(#pec9fbc4baa)\" d=\"M 97.270625 239.758125 \r\n",
       "L 104.385125 239.758125 \r\n",
       "L 104.385125 114.122576 \r\n",
       "L 97.270625 114.122576 \r\n",
       "z\r\n",
       "\" style=\"fill:#1f77b4;\"/>\r\n",
       "   </g>\r\n",
       "   <g id=\"patch_9\">\r\n",
       "    <path clip-path=\"url(#pec9fbc4baa)\" d=\"M 104.385125 239.758125 \r\n",
       "L 111.499625 239.758125 \r\n",
       "L 111.499625 239.758125 \r\n",
       "L 104.385125 239.758125 \r\n",
       "z\r\n",
       "\" style=\"fill:#1f77b4;\"/>\r\n",
       "   </g>\r\n",
       "   <g id=\"patch_10\">\r\n",
       "    <path clip-path=\"url(#pec9fbc4baa)\" d=\"M 111.499625 239.758125 \r\n",
       "L 118.614125 239.758125 \r\n",
       "L 118.614125 63.415855 \r\n",
       "L 111.499625 63.415855 \r\n",
       "z\r\n",
       "\" style=\"fill:#1f77b4;\"/>\r\n",
       "   </g>\r\n",
       "   <g id=\"patch_11\">\r\n",
       "    <path clip-path=\"url(#pec9fbc4baa)\" d=\"M 118.614125 239.758125 \r\n",
       "L 125.728625 239.758125 \r\n",
       "L 125.728625 32.672411 \r\n",
       "L 118.614125 32.672411 \r\n",
       "z\r\n",
       "\" style=\"fill:#1f77b4;\"/>\r\n",
       "   </g>\r\n",
       "   <g id=\"patch_12\">\r\n",
       "    <path clip-path=\"url(#pec9fbc4baa)\" d=\"M 125.728625 239.758125 \r\n",
       "L 132.843125 239.758125 \r\n",
       "L 132.843125 46.11435 \r\n",
       "L 125.728625 46.11435 \r\n",
       "z\r\n",
       "\" style=\"fill:#1f77b4;\"/>\r\n",
       "   </g>\r\n",
       "   <g id=\"patch_13\">\r\n",
       "    <path clip-path=\"url(#pec9fbc4baa)\" d=\"M 132.843125 239.758125 \r\n",
       "L 139.957625 239.758125 \r\n",
       "L 139.957625 44.783465 \r\n",
       "L 132.843125 44.783465 \r\n",
       "z\r\n",
       "\" style=\"fill:#1f77b4;\"/>\r\n",
       "   </g>\r\n",
       "   <g id=\"patch_14\">\r\n",
       "    <path clip-path=\"url(#pec9fbc4baa)\" d=\"M 139.957625 239.758125 \r\n",
       "L 147.072125 239.758125 \r\n",
       "L 147.072125 71.667343 \r\n",
       "L 139.957625 71.667343 \r\n",
       "z\r\n",
       "\" style=\"fill:#1f77b4;\"/>\r\n",
       "   </g>\r\n",
       "   <g id=\"patch_15\">\r\n",
       "    <path clip-path=\"url(#pec9fbc4baa)\" d=\"M 147.072125 239.758125 \r\n",
       "L 154.186625 239.758125 \r\n",
       "L 154.186625 81.116627 \r\n",
       "L 147.072125 81.116627 \r\n",
       "z\r\n",
       "\" style=\"fill:#1f77b4;\"/>\r\n",
       "   </g>\r\n",
       "   <g id=\"patch_16\">\r\n",
       "    <path clip-path=\"url(#pec9fbc4baa)\" d=\"M 154.186625 239.758125 \r\n",
       "L 161.301125 239.758125 \r\n",
       "L 161.301125 239.758125 \r\n",
       "L 154.186625 239.758125 \r\n",
       "z\r\n",
       "\" style=\"fill:#1f77b4;\"/>\r\n",
       "   </g>\r\n",
       "   <g id=\"patch_17\">\r\n",
       "    <path clip-path=\"url(#pec9fbc4baa)\" d=\"M 161.301125 239.758125 \r\n",
       "L 168.415625 239.758125 \r\n",
       "L 168.415625 92.562238 \r\n",
       "L 161.301125 92.562238 \r\n",
       "z\r\n",
       "\" style=\"fill:#1f77b4;\"/>\r\n",
       "   </g>\r\n",
       "   <g id=\"patch_18\">\r\n",
       "    <path clip-path=\"url(#pec9fbc4baa)\" d=\"M 168.415625 239.758125 \r\n",
       "L 175.530125 239.758125 \r\n",
       "L 175.530125 106.66962 \r\n",
       "L 168.415625 106.66962 \r\n",
       "z\r\n",
       "\" style=\"fill:#1f77b4;\"/>\r\n",
       "   </g>\r\n",
       "   <g id=\"patch_19\">\r\n",
       "    <path clip-path=\"url(#pec9fbc4baa)\" d=\"M 175.530125 239.758125 \r\n",
       "L 182.644625 239.758125 \r\n",
       "L 182.644625 121.708621 \r\n",
       "L 175.530125 121.708621 \r\n",
       "z\r\n",
       "\" style=\"fill:#1f77b4;\"/>\r\n",
       "   </g>\r\n",
       "   <g id=\"patch_20\">\r\n",
       "    <path clip-path=\"url(#pec9fbc4baa)\" d=\"M 182.644625 239.758125 \r\n",
       "L 189.759125 239.758125 \r\n",
       "L 189.759125 132.754967 \r\n",
       "L 182.644625 132.754967 \r\n",
       "z\r\n",
       "\" style=\"fill:#1f77b4;\"/>\r\n",
       "   </g>\r\n",
       "   <g id=\"patch_21\">\r\n",
       "    <path clip-path=\"url(#pec9fbc4baa)\" d=\"M 189.759125 239.758125 \r\n",
       "L 196.873625 239.758125 \r\n",
       "L 196.873625 143.268959 \r\n",
       "L 189.759125 143.268959 \r\n",
       "z\r\n",
       "\" style=\"fill:#1f77b4;\"/>\r\n",
       "   </g>\r\n",
       "   <g id=\"patch_22\">\r\n",
       "    <path clip-path=\"url(#pec9fbc4baa)\" d=\"M 196.873625 239.758125 \r\n",
       "L 203.988125 239.758125 \r\n",
       "L 203.988125 239.758125 \r\n",
       "L 196.873625 239.758125 \r\n",
       "z\r\n",
       "\" style=\"fill:#1f77b4;\"/>\r\n",
       "   </g>\r\n",
       "   <g id=\"patch_23\">\r\n",
       "    <path clip-path=\"url(#pec9fbc4baa)\" d=\"M 203.988125 239.758125 \r\n",
       "L 211.102625 239.758125 \r\n",
       "L 211.102625 163.6315 \r\n",
       "L 203.988125 163.6315 \r\n",
       "z\r\n",
       "\" style=\"fill:#1f77b4;\"/>\r\n",
       "   </g>\r\n",
       "   <g id=\"patch_24\">\r\n",
       "    <path clip-path=\"url(#pec9fbc4baa)\" d=\"M 211.102625 239.758125 \r\n",
       "L 218.217125 239.758125 \r\n",
       "L 218.217125 170.152837 \r\n",
       "L 211.102625 170.152837 \r\n",
       "z\r\n",
       "\" style=\"fill:#1f77b4;\"/>\r\n",
       "   </g>\r\n",
       "   <g id=\"patch_25\">\r\n",
       "    <path clip-path=\"url(#pec9fbc4baa)\" d=\"M 218.217125 239.758125 \r\n",
       "L 225.331625 239.758125 \r\n",
       "L 225.331625 176.141819 \r\n",
       "L 218.217125 176.141819 \r\n",
       "z\r\n",
       "\" style=\"fill:#1f77b4;\"/>\r\n",
       "   </g>\r\n",
       "   <g id=\"patch_26\">\r\n",
       "    <path clip-path=\"url(#pec9fbc4baa)\" d=\"M 225.331625 239.758125 \r\n",
       "L 232.446125 239.758125 \r\n",
       "L 232.446125 184.12713 \r\n",
       "L 225.331625 184.12713 \r\n",
       "z\r\n",
       "\" style=\"fill:#1f77b4;\"/>\r\n",
       "   </g>\r\n",
       "   <g id=\"patch_27\">\r\n",
       "    <path clip-path=\"url(#pec9fbc4baa)\" d=\"M 232.446125 239.758125 \r\n",
       "L 239.560625 239.758125 \r\n",
       "L 239.560625 197.968334 \r\n",
       "L 232.446125 197.968334 \r\n",
       "z\r\n",
       "\" style=\"fill:#1f77b4;\"/>\r\n",
       "   </g>\r\n",
       "   <g id=\"patch_28\">\r\n",
       "    <path clip-path=\"url(#pec9fbc4baa)\" d=\"M 239.560625 239.758125 \r\n",
       "L 246.675125 239.758125 \r\n",
       "L 246.675125 207.683795 \r\n",
       "L 239.560625 207.683795 \r\n",
       "z\r\n",
       "\" style=\"fill:#1f77b4;\"/>\r\n",
       "   </g>\r\n",
       "   <g id=\"patch_29\">\r\n",
       "    <path clip-path=\"url(#pec9fbc4baa)\" d=\"M 246.675125 239.758125 \r\n",
       "L 253.789625 239.758125 \r\n",
       "L 253.789625 239.758125 \r\n",
       "L 246.675125 239.758125 \r\n",
       "z\r\n",
       "\" style=\"fill:#1f77b4;\"/>\r\n",
       "   </g>\r\n",
       "   <g id=\"patch_30\">\r\n",
       "    <path clip-path=\"url(#pec9fbc4baa)\" d=\"M 253.789625 239.758125 \r\n",
       "L 260.904125 239.758125 \r\n",
       "L 260.904125 217.665433 \r\n",
       "L 253.789625 217.665433 \r\n",
       "z\r\n",
       "\" style=\"fill:#1f77b4;\"/>\r\n",
       "   </g>\r\n",
       "   <g id=\"patch_31\">\r\n",
       "    <path clip-path=\"url(#pec9fbc4baa)\" d=\"M 260.904125 239.758125 \r\n",
       "L 268.018625 239.758125 \r\n",
       "L 268.018625 226.84854 \r\n",
       "L 260.904125 226.84854 \r\n",
       "z\r\n",
       "\" style=\"fill:#1f77b4;\"/>\r\n",
       "   </g>\r\n",
       "   <g id=\"patch_32\">\r\n",
       "    <path clip-path=\"url(#pec9fbc4baa)\" d=\"M 268.018625 239.758125 \r\n",
       "L 275.133125 239.758125 \r\n",
       "L 275.133125 232.305169 \r\n",
       "L 268.018625 232.305169 \r\n",
       "z\r\n",
       "\" style=\"fill:#1f77b4;\"/>\r\n",
       "   </g>\r\n",
       "   <g id=\"patch_33\">\r\n",
       "    <path clip-path=\"url(#pec9fbc4baa)\" d=\"M 275.133125 239.758125 \r\n",
       "L 282.247625 239.758125 \r\n",
       "L 282.247625 234.966939 \r\n",
       "L 275.133125 234.966939 \r\n",
       "z\r\n",
       "\" style=\"fill:#1f77b4;\"/>\r\n",
       "   </g>\r\n",
       "   <g id=\"patch_34\">\r\n",
       "    <path clip-path=\"url(#pec9fbc4baa)\" d=\"M 282.247625 239.758125 \r\n",
       "L 289.362125 239.758125 \r\n",
       "L 289.362125 236.564001 \r\n",
       "L 282.247625 236.564001 \r\n",
       "z\r\n",
       "\" style=\"fill:#1f77b4;\"/>\r\n",
       "   </g>\r\n",
       "   <g id=\"patch_35\">\r\n",
       "    <path clip-path=\"url(#pec9fbc4baa)\" d=\"M 289.362125 239.758125 \r\n",
       "L 296.476625 239.758125 \r\n",
       "L 296.476625 237.894886 \r\n",
       "L 289.362125 237.894886 \r\n",
       "z\r\n",
       "\" style=\"fill:#1f77b4;\"/>\r\n",
       "   </g>\r\n",
       "   <g id=\"patch_36\">\r\n",
       "    <path clip-path=\"url(#pec9fbc4baa)\" d=\"M 296.476625 239.758125 \r\n",
       "L 303.591125 239.758125 \r\n",
       "L 303.591125 239.758125 \r\n",
       "L 296.476625 239.758125 \r\n",
       "z\r\n",
       "\" style=\"fill:#1f77b4;\"/>\r\n",
       "   </g>\r\n",
       "   <g id=\"patch_37\">\r\n",
       "    <path clip-path=\"url(#pec9fbc4baa)\" d=\"M 303.591125 239.758125 \r\n",
       "L 310.705625 239.758125 \r\n",
       "L 310.705625 238.42724 \r\n",
       "L 303.591125 238.42724 \r\n",
       "z\r\n",
       "\" style=\"fill:#1f77b4;\"/>\r\n",
       "   </g>\r\n",
       "   <g id=\"patch_38\">\r\n",
       "    <path clip-path=\"url(#pec9fbc4baa)\" d=\"M 310.705625 239.758125 \r\n",
       "L 317.820125 239.758125 \r\n",
       "L 317.820125 238.693417 \r\n",
       "L 310.705625 238.693417 \r\n",
       "z\r\n",
       "\" style=\"fill:#1f77b4;\"/>\r\n",
       "   </g>\r\n",
       "   <g id=\"patch_39\">\r\n",
       "    <path clip-path=\"url(#pec9fbc4baa)\" d=\"M 317.820125 239.758125 \r\n",
       "L 324.934625 239.758125 \r\n",
       "L 324.934625 239.225771 \r\n",
       "L 317.820125 239.225771 \r\n",
       "z\r\n",
       "\" style=\"fill:#1f77b4;\"/>\r\n",
       "   </g>\r\n",
       "   <g id=\"patch_40\">\r\n",
       "    <path clip-path=\"url(#pec9fbc4baa)\" d=\"M 324.934625 239.758125 \r\n",
       "L 332.049125 239.758125 \r\n",
       "L 332.049125 239.625036 \r\n",
       "L 324.934625 239.625036 \r\n",
       "z\r\n",
       "\" style=\"fill:#1f77b4;\"/>\r\n",
       "   </g>\r\n",
       "   <g id=\"patch_41\">\r\n",
       "    <path clip-path=\"url(#pec9fbc4baa)\" d=\"M 332.049125 239.758125 \r\n",
       "L 339.163625 239.758125 \r\n",
       "L 339.163625 239.758125 \r\n",
       "L 332.049125 239.758125 \r\n",
       "z\r\n",
       "\" style=\"fill:#1f77b4;\"/>\r\n",
       "   </g>\r\n",
       "   <g id=\"patch_42\">\r\n",
       "    <path clip-path=\"url(#pec9fbc4baa)\" d=\"M 339.163625 239.758125 \r\n",
       "L 346.278125 239.758125 \r\n",
       "L 346.278125 239.625036 \r\n",
       "L 339.163625 239.625036 \r\n",
       "z\r\n",
       "\" style=\"fill:#1f77b4;\"/>\r\n",
       "   </g>\r\n",
       "   <g id=\"matplotlib.axis_1\">\r\n",
       "    <g id=\"xtick_1\">\r\n",
       "     <g id=\"line2d_1\">\r\n",
       "      <path clip-path=\"url(#pec9fbc4baa)\" d=\"M 53.328125 239.758125 \r\n",
       "L 53.328125 22.318125 \r\n",
       "\" style=\"fill:none;stroke:#b0b0b0;stroke-linecap:square;stroke-width:0.8;\"/>\r\n",
       "     </g>\r\n",
       "     <g id=\"line2d_2\">\r\n",
       "      <defs>\r\n",
       "       <path d=\"M 0 0 \r\n",
       "L 0 3.5 \r\n",
       "\" id=\"m8b5c13e3a8\" style=\"stroke:#000000;stroke-width:0.8;\"/>\r\n",
       "      </defs>\r\n",
       "      <g>\r\n",
       "       <use style=\"stroke:#000000;stroke-width:0.8;\" x=\"53.328125\" xlink:href=\"#m8b5c13e3a8\" y=\"239.758125\"/>\r\n",
       "      </g>\r\n",
       "     </g>\r\n",
       "     <g id=\"text_1\">\r\n",
       "      <!-- 0 -->\r\n",
       "      <defs>\r\n",
       "       <path d=\"M 31.78125 66.40625 \r\n",
       "Q 24.171875 66.40625 20.328125 58.90625 \r\n",
       "Q 16.5 51.421875 16.5 36.375 \r\n",
       "Q 16.5 21.390625 20.328125 13.890625 \r\n",
       "Q 24.171875 6.390625 31.78125 6.390625 \r\n",
       "Q 39.453125 6.390625 43.28125 13.890625 \r\n",
       "Q 47.125 21.390625 47.125 36.375 \r\n",
       "Q 47.125 51.421875 43.28125 58.90625 \r\n",
       "Q 39.453125 66.40625 31.78125 66.40625 \r\n",
       "z\r\n",
       "M 31.78125 74.21875 \r\n",
       "Q 44.046875 74.21875 50.515625 64.515625 \r\n",
       "Q 56.984375 54.828125 56.984375 36.375 \r\n",
       "Q 56.984375 17.96875 50.515625 8.265625 \r\n",
       "Q 44.046875 -1.421875 31.78125 -1.421875 \r\n",
       "Q 19.53125 -1.421875 13.0625 8.265625 \r\n",
       "Q 6.59375 17.96875 6.59375 36.375 \r\n",
       "Q 6.59375 54.828125 13.0625 64.515625 \r\n",
       "Q 19.53125 74.21875 31.78125 74.21875 \r\n",
       "z\r\n",
       "\" id=\"DejaVuSans-30\"/>\r\n",
       "      </defs>\r\n",
       "      <g transform=\"translate(50.146875 254.356563)scale(0.1 -0.1)\">\r\n",
       "       <use xlink:href=\"#DejaVuSans-30\"/>\r\n",
       "      </g>\r\n",
       "     </g>\r\n",
       "    </g>\r\n",
       "    <g id=\"xtick_2\">\r\n",
       "     <g id=\"line2d_3\">\r\n",
       "      <path clip-path=\"url(#pec9fbc4baa)\" d=\"M 95.178125 239.758125 \r\n",
       "L 95.178125 22.318125 \r\n",
       "\" style=\"fill:none;stroke:#b0b0b0;stroke-linecap:square;stroke-width:0.8;\"/>\r\n",
       "     </g>\r\n",
       "     <g id=\"line2d_4\">\r\n",
       "      <g>\r\n",
       "       <use style=\"stroke:#000000;stroke-width:0.8;\" x=\"95.178125\" xlink:href=\"#m8b5c13e3a8\" y=\"239.758125\"/>\r\n",
       "      </g>\r\n",
       "     </g>\r\n",
       "     <g id=\"text_2\">\r\n",
       "      <!-- 5 -->\r\n",
       "      <defs>\r\n",
       "       <path d=\"M 10.796875 72.90625 \r\n",
       "L 49.515625 72.90625 \r\n",
       "L 49.515625 64.59375 \r\n",
       "L 19.828125 64.59375 \r\n",
       "L 19.828125 46.734375 \r\n",
       "Q 21.96875 47.46875 24.109375 47.828125 \r\n",
       "Q 26.265625 48.1875 28.421875 48.1875 \r\n",
       "Q 40.625 48.1875 47.75 41.5 \r\n",
       "Q 54.890625 34.8125 54.890625 23.390625 \r\n",
       "Q 54.890625 11.625 47.5625 5.09375 \r\n",
       "Q 40.234375 -1.421875 26.90625 -1.421875 \r\n",
       "Q 22.3125 -1.421875 17.546875 -0.640625 \r\n",
       "Q 12.796875 0.140625 7.71875 1.703125 \r\n",
       "L 7.71875 11.625 \r\n",
       "Q 12.109375 9.234375 16.796875 8.0625 \r\n",
       "Q 21.484375 6.890625 26.703125 6.890625 \r\n",
       "Q 35.15625 6.890625 40.078125 11.328125 \r\n",
       "Q 45.015625 15.765625 45.015625 23.390625 \r\n",
       "Q 45.015625 31 40.078125 35.4375 \r\n",
       "Q 35.15625 39.890625 26.703125 39.890625 \r\n",
       "Q 22.75 39.890625 18.8125 39.015625 \r\n",
       "Q 14.890625 38.140625 10.796875 36.28125 \r\n",
       "z\r\n",
       "\" id=\"DejaVuSans-35\"/>\r\n",
       "      </defs>\r\n",
       "      <g transform=\"translate(91.996875 254.356563)scale(0.1 -0.1)\">\r\n",
       "       <use xlink:href=\"#DejaVuSans-35\"/>\r\n",
       "      </g>\r\n",
       "     </g>\r\n",
       "    </g>\r\n",
       "    <g id=\"xtick_3\">\r\n",
       "     <g id=\"line2d_5\">\r\n",
       "      <path clip-path=\"url(#pec9fbc4baa)\" d=\"M 137.028125 239.758125 \r\n",
       "L 137.028125 22.318125 \r\n",
       "\" style=\"fill:none;stroke:#b0b0b0;stroke-linecap:square;stroke-width:0.8;\"/>\r\n",
       "     </g>\r\n",
       "     <g id=\"line2d_6\">\r\n",
       "      <g>\r\n",
       "       <use style=\"stroke:#000000;stroke-width:0.8;\" x=\"137.028125\" xlink:href=\"#m8b5c13e3a8\" y=\"239.758125\"/>\r\n",
       "      </g>\r\n",
       "     </g>\r\n",
       "     <g id=\"text_3\">\r\n",
       "      <!-- 10 -->\r\n",
       "      <defs>\r\n",
       "       <path d=\"M 12.40625 8.296875 \r\n",
       "L 28.515625 8.296875 \r\n",
       "L 28.515625 63.921875 \r\n",
       "L 10.984375 60.40625 \r\n",
       "L 10.984375 69.390625 \r\n",
       "L 28.421875 72.90625 \r\n",
       "L 38.28125 72.90625 \r\n",
       "L 38.28125 8.296875 \r\n",
       "L 54.390625 8.296875 \r\n",
       "L 54.390625 0 \r\n",
       "L 12.40625 0 \r\n",
       "z\r\n",
       "\" id=\"DejaVuSans-31\"/>\r\n",
       "      </defs>\r\n",
       "      <g transform=\"translate(130.665625 254.356563)scale(0.1 -0.1)\">\r\n",
       "       <use xlink:href=\"#DejaVuSans-31\"/>\r\n",
       "       <use x=\"63.623047\" xlink:href=\"#DejaVuSans-30\"/>\r\n",
       "      </g>\r\n",
       "     </g>\r\n",
       "    </g>\r\n",
       "    <g id=\"xtick_4\">\r\n",
       "     <g id=\"line2d_7\">\r\n",
       "      <path clip-path=\"url(#pec9fbc4baa)\" d=\"M 178.878125 239.758125 \r\n",
       "L 178.878125 22.318125 \r\n",
       "\" style=\"fill:none;stroke:#b0b0b0;stroke-linecap:square;stroke-width:0.8;\"/>\r\n",
       "     </g>\r\n",
       "     <g id=\"line2d_8\">\r\n",
       "      <g>\r\n",
       "       <use style=\"stroke:#000000;stroke-width:0.8;\" x=\"178.878125\" xlink:href=\"#m8b5c13e3a8\" y=\"239.758125\"/>\r\n",
       "      </g>\r\n",
       "     </g>\r\n",
       "     <g id=\"text_4\">\r\n",
       "      <!-- 15 -->\r\n",
       "      <g transform=\"translate(172.515625 254.356563)scale(0.1 -0.1)\">\r\n",
       "       <use xlink:href=\"#DejaVuSans-31\"/>\r\n",
       "       <use x=\"63.623047\" xlink:href=\"#DejaVuSans-35\"/>\r\n",
       "      </g>\r\n",
       "     </g>\r\n",
       "    </g>\r\n",
       "    <g id=\"xtick_5\">\r\n",
       "     <g id=\"line2d_9\">\r\n",
       "      <path clip-path=\"url(#pec9fbc4baa)\" d=\"M 220.728125 239.758125 \r\n",
       "L 220.728125 22.318125 \r\n",
       "\" style=\"fill:none;stroke:#b0b0b0;stroke-linecap:square;stroke-width:0.8;\"/>\r\n",
       "     </g>\r\n",
       "     <g id=\"line2d_10\">\r\n",
       "      <g>\r\n",
       "       <use style=\"stroke:#000000;stroke-width:0.8;\" x=\"220.728125\" xlink:href=\"#m8b5c13e3a8\" y=\"239.758125\"/>\r\n",
       "      </g>\r\n",
       "     </g>\r\n",
       "     <g id=\"text_5\">\r\n",
       "      <!-- 20 -->\r\n",
       "      <defs>\r\n",
       "       <path d=\"M 19.1875 8.296875 \r\n",
       "L 53.609375 8.296875 \r\n",
       "L 53.609375 0 \r\n",
       "L 7.328125 0 \r\n",
       "L 7.328125 8.296875 \r\n",
       "Q 12.9375 14.109375 22.625 23.890625 \r\n",
       "Q 32.328125 33.6875 34.8125 36.53125 \r\n",
       "Q 39.546875 41.84375 41.421875 45.53125 \r\n",
       "Q 43.3125 49.21875 43.3125 52.78125 \r\n",
       "Q 43.3125 58.59375 39.234375 62.25 \r\n",
       "Q 35.15625 65.921875 28.609375 65.921875 \r\n",
       "Q 23.96875 65.921875 18.8125 64.3125 \r\n",
       "Q 13.671875 62.703125 7.8125 59.421875 \r\n",
       "L 7.8125 69.390625 \r\n",
       "Q 13.765625 71.78125 18.9375 73 \r\n",
       "Q 24.125 74.21875 28.421875 74.21875 \r\n",
       "Q 39.75 74.21875 46.484375 68.546875 \r\n",
       "Q 53.21875 62.890625 53.21875 53.421875 \r\n",
       "Q 53.21875 48.921875 51.53125 44.890625 \r\n",
       "Q 49.859375 40.875 45.40625 35.40625 \r\n",
       "Q 44.1875 33.984375 37.640625 27.21875 \r\n",
       "Q 31.109375 20.453125 19.1875 8.296875 \r\n",
       "z\r\n",
       "\" id=\"DejaVuSans-32\"/>\r\n",
       "      </defs>\r\n",
       "      <g transform=\"translate(214.365625 254.356563)scale(0.1 -0.1)\">\r\n",
       "       <use xlink:href=\"#DejaVuSans-32\"/>\r\n",
       "       <use x=\"63.623047\" xlink:href=\"#DejaVuSans-30\"/>\r\n",
       "      </g>\r\n",
       "     </g>\r\n",
       "    </g>\r\n",
       "    <g id=\"xtick_6\">\r\n",
       "     <g id=\"line2d_11\">\r\n",
       "      <path clip-path=\"url(#pec9fbc4baa)\" d=\"M 262.578125 239.758125 \r\n",
       "L 262.578125 22.318125 \r\n",
       "\" style=\"fill:none;stroke:#b0b0b0;stroke-linecap:square;stroke-width:0.8;\"/>\r\n",
       "     </g>\r\n",
       "     <g id=\"line2d_12\">\r\n",
       "      <g>\r\n",
       "       <use style=\"stroke:#000000;stroke-width:0.8;\" x=\"262.578125\" xlink:href=\"#m8b5c13e3a8\" y=\"239.758125\"/>\r\n",
       "      </g>\r\n",
       "     </g>\r\n",
       "     <g id=\"text_6\">\r\n",
       "      <!-- 25 -->\r\n",
       "      <g transform=\"translate(256.215625 254.356563)scale(0.1 -0.1)\">\r\n",
       "       <use xlink:href=\"#DejaVuSans-32\"/>\r\n",
       "       <use x=\"63.623047\" xlink:href=\"#DejaVuSans-35\"/>\r\n",
       "      </g>\r\n",
       "     </g>\r\n",
       "    </g>\r\n",
       "    <g id=\"xtick_7\">\r\n",
       "     <g id=\"line2d_13\">\r\n",
       "      <path clip-path=\"url(#pec9fbc4baa)\" d=\"M 304.428125 239.758125 \r\n",
       "L 304.428125 22.318125 \r\n",
       "\" style=\"fill:none;stroke:#b0b0b0;stroke-linecap:square;stroke-width:0.8;\"/>\r\n",
       "     </g>\r\n",
       "     <g id=\"line2d_14\">\r\n",
       "      <g>\r\n",
       "       <use style=\"stroke:#000000;stroke-width:0.8;\" x=\"304.428125\" xlink:href=\"#m8b5c13e3a8\" y=\"239.758125\"/>\r\n",
       "      </g>\r\n",
       "     </g>\r\n",
       "     <g id=\"text_7\">\r\n",
       "      <!-- 30 -->\r\n",
       "      <defs>\r\n",
       "       <path d=\"M 40.578125 39.3125 \r\n",
       "Q 47.65625 37.796875 51.625 33 \r\n",
       "Q 55.609375 28.21875 55.609375 21.1875 \r\n",
       "Q 55.609375 10.40625 48.1875 4.484375 \r\n",
       "Q 40.765625 -1.421875 27.09375 -1.421875 \r\n",
       "Q 22.515625 -1.421875 17.65625 -0.515625 \r\n",
       "Q 12.796875 0.390625 7.625 2.203125 \r\n",
       "L 7.625 11.71875 \r\n",
       "Q 11.71875 9.328125 16.59375 8.109375 \r\n",
       "Q 21.484375 6.890625 26.8125 6.890625 \r\n",
       "Q 36.078125 6.890625 40.9375 10.546875 \r\n",
       "Q 45.796875 14.203125 45.796875 21.1875 \r\n",
       "Q 45.796875 27.640625 41.28125 31.265625 \r\n",
       "Q 36.765625 34.90625 28.71875 34.90625 \r\n",
       "L 20.21875 34.90625 \r\n",
       "L 20.21875 43.015625 \r\n",
       "L 29.109375 43.015625 \r\n",
       "Q 36.375 43.015625 40.234375 45.921875 \r\n",
       "Q 44.09375 48.828125 44.09375 54.296875 \r\n",
       "Q 44.09375 59.90625 40.109375 62.90625 \r\n",
       "Q 36.140625 65.921875 28.71875 65.921875 \r\n",
       "Q 24.65625 65.921875 20.015625 65.03125 \r\n",
       "Q 15.375 64.15625 9.8125 62.3125 \r\n",
       "L 9.8125 71.09375 \r\n",
       "Q 15.4375 72.65625 20.34375 73.4375 \r\n",
       "Q 25.25 74.21875 29.59375 74.21875 \r\n",
       "Q 40.828125 74.21875 47.359375 69.109375 \r\n",
       "Q 53.90625 64.015625 53.90625 55.328125 \r\n",
       "Q 53.90625 49.265625 50.4375 45.09375 \r\n",
       "Q 46.96875 40.921875 40.578125 39.3125 \r\n",
       "z\r\n",
       "\" id=\"DejaVuSans-33\"/>\r\n",
       "      </defs>\r\n",
       "      <g transform=\"translate(298.065625 254.356563)scale(0.1 -0.1)\">\r\n",
       "       <use xlink:href=\"#DejaVuSans-33\"/>\r\n",
       "       <use x=\"63.623047\" xlink:href=\"#DejaVuSans-30\"/>\r\n",
       "      </g>\r\n",
       "     </g>\r\n",
       "    </g>\r\n",
       "    <g id=\"xtick_8\">\r\n",
       "     <g id=\"line2d_15\">\r\n",
       "      <path clip-path=\"url(#pec9fbc4baa)\" d=\"M 346.278125 239.758125 \r\n",
       "L 346.278125 22.318125 \r\n",
       "\" style=\"fill:none;stroke:#b0b0b0;stroke-linecap:square;stroke-width:0.8;\"/>\r\n",
       "     </g>\r\n",
       "     <g id=\"line2d_16\">\r\n",
       "      <g>\r\n",
       "       <use style=\"stroke:#000000;stroke-width:0.8;\" x=\"346.278125\" xlink:href=\"#m8b5c13e3a8\" y=\"239.758125\"/>\r\n",
       "      </g>\r\n",
       "     </g>\r\n",
       "     <g id=\"text_8\">\r\n",
       "      <!-- 35 -->\r\n",
       "      <g transform=\"translate(339.915625 254.356563)scale(0.1 -0.1)\">\r\n",
       "       <use xlink:href=\"#DejaVuSans-33\"/>\r\n",
       "       <use x=\"63.623047\" xlink:href=\"#DejaVuSans-35\"/>\r\n",
       "      </g>\r\n",
       "     </g>\r\n",
       "    </g>\r\n",
       "    <g id=\"xtick_9\">\r\n",
       "     <g id=\"line2d_17\">\r\n",
       "      <path clip-path=\"url(#pec9fbc4baa)\" d=\"M 388.128125 239.758125 \r\n",
       "L 388.128125 22.318125 \r\n",
       "\" style=\"fill:none;stroke:#b0b0b0;stroke-linecap:square;stroke-width:0.8;\"/>\r\n",
       "     </g>\r\n",
       "     <g id=\"line2d_18\">\r\n",
       "      <g>\r\n",
       "       <use style=\"stroke:#000000;stroke-width:0.8;\" x=\"388.128125\" xlink:href=\"#m8b5c13e3a8\" y=\"239.758125\"/>\r\n",
       "      </g>\r\n",
       "     </g>\r\n",
       "     <g id=\"text_9\">\r\n",
       "      <!-- 40 -->\r\n",
       "      <defs>\r\n",
       "       <path d=\"M 37.796875 64.3125 \r\n",
       "L 12.890625 25.390625 \r\n",
       "L 37.796875 25.390625 \r\n",
       "z\r\n",
       "M 35.203125 72.90625 \r\n",
       "L 47.609375 72.90625 \r\n",
       "L 47.609375 25.390625 \r\n",
       "L 58.015625 25.390625 \r\n",
       "L 58.015625 17.1875 \r\n",
       "L 47.609375 17.1875 \r\n",
       "L 47.609375 0 \r\n",
       "L 37.796875 0 \r\n",
       "L 37.796875 17.1875 \r\n",
       "L 4.890625 17.1875 \r\n",
       "L 4.890625 26.703125 \r\n",
       "z\r\n",
       "\" id=\"DejaVuSans-34\"/>\r\n",
       "      </defs>\r\n",
       "      <g transform=\"translate(381.765625 254.356563)scale(0.1 -0.1)\">\r\n",
       "       <use xlink:href=\"#DejaVuSans-34\"/>\r\n",
       "       <use x=\"63.623047\" xlink:href=\"#DejaVuSans-30\"/>\r\n",
       "      </g>\r\n",
       "     </g>\r\n",
       "    </g>\r\n",
       "    <g id=\"text_10\">\r\n",
       "     <!-- sentence_length -->\r\n",
       "     <defs>\r\n",
       "      <path d=\"M 44.28125 53.078125 \r\n",
       "L 44.28125 44.578125 \r\n",
       "Q 40.484375 46.53125 36.375 47.5 \r\n",
       "Q 32.28125 48.484375 27.875 48.484375 \r\n",
       "Q 21.1875 48.484375 17.84375 46.4375 \r\n",
       "Q 14.5 44.390625 14.5 40.28125 \r\n",
       "Q 14.5 37.15625 16.890625 35.375 \r\n",
       "Q 19.28125 33.59375 26.515625 31.984375 \r\n",
       "L 29.59375 31.296875 \r\n",
       "Q 39.15625 29.25 43.1875 25.515625 \r\n",
       "Q 47.21875 21.78125 47.21875 15.09375 \r\n",
       "Q 47.21875 7.46875 41.1875 3.015625 \r\n",
       "Q 35.15625 -1.421875 24.609375 -1.421875 \r\n",
       "Q 20.21875 -1.421875 15.453125 -0.5625 \r\n",
       "Q 10.6875 0.296875 5.421875 2 \r\n",
       "L 5.421875 11.28125 \r\n",
       "Q 10.40625 8.6875 15.234375 7.390625 \r\n",
       "Q 20.0625 6.109375 24.8125 6.109375 \r\n",
       "Q 31.15625 6.109375 34.5625 8.28125 \r\n",
       "Q 37.984375 10.453125 37.984375 14.40625 \r\n",
       "Q 37.984375 18.0625 35.515625 20.015625 \r\n",
       "Q 33.0625 21.96875 24.703125 23.78125 \r\n",
       "L 21.578125 24.515625 \r\n",
       "Q 13.234375 26.265625 9.515625 29.90625 \r\n",
       "Q 5.8125 33.546875 5.8125 39.890625 \r\n",
       "Q 5.8125 47.609375 11.28125 51.796875 \r\n",
       "Q 16.75 56 26.8125 56 \r\n",
       "Q 31.78125 56 36.171875 55.265625 \r\n",
       "Q 40.578125 54.546875 44.28125 53.078125 \r\n",
       "z\r\n",
       "\" id=\"DejaVuSans-73\"/>\r\n",
       "      <path d=\"M 56.203125 29.59375 \r\n",
       "L 56.203125 25.203125 \r\n",
       "L 14.890625 25.203125 \r\n",
       "Q 15.484375 15.921875 20.484375 11.0625 \r\n",
       "Q 25.484375 6.203125 34.421875 6.203125 \r\n",
       "Q 39.59375 6.203125 44.453125 7.46875 \r\n",
       "Q 49.3125 8.734375 54.109375 11.28125 \r\n",
       "L 54.109375 2.78125 \r\n",
       "Q 49.265625 0.734375 44.1875 -0.34375 \r\n",
       "Q 39.109375 -1.421875 33.890625 -1.421875 \r\n",
       "Q 20.796875 -1.421875 13.15625 6.1875 \r\n",
       "Q 5.515625 13.8125 5.515625 26.8125 \r\n",
       "Q 5.515625 40.234375 12.765625 48.109375 \r\n",
       "Q 20.015625 56 32.328125 56 \r\n",
       "Q 43.359375 56 49.78125 48.890625 \r\n",
       "Q 56.203125 41.796875 56.203125 29.59375 \r\n",
       "z\r\n",
       "M 47.21875 32.234375 \r\n",
       "Q 47.125 39.59375 43.09375 43.984375 \r\n",
       "Q 39.0625 48.390625 32.421875 48.390625 \r\n",
       "Q 24.90625 48.390625 20.390625 44.140625 \r\n",
       "Q 15.875 39.890625 15.1875 32.171875 \r\n",
       "z\r\n",
       "\" id=\"DejaVuSans-65\"/>\r\n",
       "      <path d=\"M 54.890625 33.015625 \r\n",
       "L 54.890625 0 \r\n",
       "L 45.90625 0 \r\n",
       "L 45.90625 32.71875 \r\n",
       "Q 45.90625 40.484375 42.875 44.328125 \r\n",
       "Q 39.84375 48.1875 33.796875 48.1875 \r\n",
       "Q 26.515625 48.1875 22.3125 43.546875 \r\n",
       "Q 18.109375 38.921875 18.109375 30.90625 \r\n",
       "L 18.109375 0 \r\n",
       "L 9.078125 0 \r\n",
       "L 9.078125 54.6875 \r\n",
       "L 18.109375 54.6875 \r\n",
       "L 18.109375 46.1875 \r\n",
       "Q 21.34375 51.125 25.703125 53.5625 \r\n",
       "Q 30.078125 56 35.796875 56 \r\n",
       "Q 45.21875 56 50.046875 50.171875 \r\n",
       "Q 54.890625 44.34375 54.890625 33.015625 \r\n",
       "z\r\n",
       "\" id=\"DejaVuSans-6e\"/>\r\n",
       "      <path d=\"M 18.3125 70.21875 \r\n",
       "L 18.3125 54.6875 \r\n",
       "L 36.8125 54.6875 \r\n",
       "L 36.8125 47.703125 \r\n",
       "L 18.3125 47.703125 \r\n",
       "L 18.3125 18.015625 \r\n",
       "Q 18.3125 11.328125 20.140625 9.421875 \r\n",
       "Q 21.96875 7.515625 27.59375 7.515625 \r\n",
       "L 36.8125 7.515625 \r\n",
       "L 36.8125 0 \r\n",
       "L 27.59375 0 \r\n",
       "Q 17.1875 0 13.234375 3.875 \r\n",
       "Q 9.28125 7.765625 9.28125 18.015625 \r\n",
       "L 9.28125 47.703125 \r\n",
       "L 2.6875 47.703125 \r\n",
       "L 2.6875 54.6875 \r\n",
       "L 9.28125 54.6875 \r\n",
       "L 9.28125 70.21875 \r\n",
       "z\r\n",
       "\" id=\"DejaVuSans-74\"/>\r\n",
       "      <path d=\"M 48.78125 52.59375 \r\n",
       "L 48.78125 44.1875 \r\n",
       "Q 44.96875 46.296875 41.140625 47.34375 \r\n",
       "Q 37.3125 48.390625 33.40625 48.390625 \r\n",
       "Q 24.65625 48.390625 19.8125 42.84375 \r\n",
       "Q 14.984375 37.3125 14.984375 27.296875 \r\n",
       "Q 14.984375 17.28125 19.8125 11.734375 \r\n",
       "Q 24.65625 6.203125 33.40625 6.203125 \r\n",
       "Q 37.3125 6.203125 41.140625 7.25 \r\n",
       "Q 44.96875 8.296875 48.78125 10.40625 \r\n",
       "L 48.78125 2.09375 \r\n",
       "Q 45.015625 0.34375 40.984375 -0.53125 \r\n",
       "Q 36.96875 -1.421875 32.421875 -1.421875 \r\n",
       "Q 20.0625 -1.421875 12.78125 6.34375 \r\n",
       "Q 5.515625 14.109375 5.515625 27.296875 \r\n",
       "Q 5.515625 40.671875 12.859375 48.328125 \r\n",
       "Q 20.21875 56 33.015625 56 \r\n",
       "Q 37.15625 56 41.109375 55.140625 \r\n",
       "Q 45.0625 54.296875 48.78125 52.59375 \r\n",
       "z\r\n",
       "\" id=\"DejaVuSans-63\"/>\r\n",
       "      <path d=\"M 50.984375 -16.609375 \r\n",
       "L 50.984375 -23.578125 \r\n",
       "L -0.984375 -23.578125 \r\n",
       "L -0.984375 -16.609375 \r\n",
       "z\r\n",
       "\" id=\"DejaVuSans-5f\"/>\r\n",
       "      <path d=\"M 9.421875 75.984375 \r\n",
       "L 18.40625 75.984375 \r\n",
       "L 18.40625 0 \r\n",
       "L 9.421875 0 \r\n",
       "z\r\n",
       "\" id=\"DejaVuSans-6c\"/>\r\n",
       "      <path d=\"M 45.40625 27.984375 \r\n",
       "Q 45.40625 37.75 41.375 43.109375 \r\n",
       "Q 37.359375 48.484375 30.078125 48.484375 \r\n",
       "Q 22.859375 48.484375 18.828125 43.109375 \r\n",
       "Q 14.796875 37.75 14.796875 27.984375 \r\n",
       "Q 14.796875 18.265625 18.828125 12.890625 \r\n",
       "Q 22.859375 7.515625 30.078125 7.515625 \r\n",
       "Q 37.359375 7.515625 41.375 12.890625 \r\n",
       "Q 45.40625 18.265625 45.40625 27.984375 \r\n",
       "z\r\n",
       "M 54.390625 6.78125 \r\n",
       "Q 54.390625 -7.171875 48.1875 -13.984375 \r\n",
       "Q 42 -20.796875 29.203125 -20.796875 \r\n",
       "Q 24.46875 -20.796875 20.265625 -20.09375 \r\n",
       "Q 16.0625 -19.390625 12.109375 -17.921875 \r\n",
       "L 12.109375 -9.1875 \r\n",
       "Q 16.0625 -11.328125 19.921875 -12.34375 \r\n",
       "Q 23.78125 -13.375 27.78125 -13.375 \r\n",
       "Q 36.625 -13.375 41.015625 -8.765625 \r\n",
       "Q 45.40625 -4.15625 45.40625 5.171875 \r\n",
       "L 45.40625 9.625 \r\n",
       "Q 42.625 4.78125 38.28125 2.390625 \r\n",
       "Q 33.9375 0 27.875 0 \r\n",
       "Q 17.828125 0 11.671875 7.65625 \r\n",
       "Q 5.515625 15.328125 5.515625 27.984375 \r\n",
       "Q 5.515625 40.671875 11.671875 48.328125 \r\n",
       "Q 17.828125 56 27.875 56 \r\n",
       "Q 33.9375 56 38.28125 53.609375 \r\n",
       "Q 42.625 51.21875 45.40625 46.390625 \r\n",
       "L 45.40625 54.6875 \r\n",
       "L 54.390625 54.6875 \r\n",
       "z\r\n",
       "\" id=\"DejaVuSans-67\"/>\r\n",
       "      <path d=\"M 54.890625 33.015625 \r\n",
       "L 54.890625 0 \r\n",
       "L 45.90625 0 \r\n",
       "L 45.90625 32.71875 \r\n",
       "Q 45.90625 40.484375 42.875 44.328125 \r\n",
       "Q 39.84375 48.1875 33.796875 48.1875 \r\n",
       "Q 26.515625 48.1875 22.3125 43.546875 \r\n",
       "Q 18.109375 38.921875 18.109375 30.90625 \r\n",
       "L 18.109375 0 \r\n",
       "L 9.078125 0 \r\n",
       "L 9.078125 75.984375 \r\n",
       "L 18.109375 75.984375 \r\n",
       "L 18.109375 46.1875 \r\n",
       "Q 21.34375 51.125 25.703125 53.5625 \r\n",
       "Q 30.078125 56 35.796875 56 \r\n",
       "Q 45.21875 56 50.046875 50.171875 \r\n",
       "Q 54.890625 44.34375 54.890625 33.015625 \r\n",
       "z\r\n",
       "\" id=\"DejaVuSans-68\"/>\r\n",
       "     </defs>\r\n",
       "     <g transform=\"translate(179.409375 268.034688)scale(0.1 -0.1)\">\r\n",
       "      <use xlink:href=\"#DejaVuSans-73\"/>\r\n",
       "      <use x=\"52.099609\" xlink:href=\"#DejaVuSans-65\"/>\r\n",
       "      <use x=\"113.623047\" xlink:href=\"#DejaVuSans-6e\"/>\r\n",
       "      <use x=\"177.001953\" xlink:href=\"#DejaVuSans-74\"/>\r\n",
       "      <use x=\"216.210938\" xlink:href=\"#DejaVuSans-65\"/>\r\n",
       "      <use x=\"277.734375\" xlink:href=\"#DejaVuSans-6e\"/>\r\n",
       "      <use x=\"341.113281\" xlink:href=\"#DejaVuSans-63\"/>\r\n",
       "      <use x=\"396.09375\" xlink:href=\"#DejaVuSans-65\"/>\r\n",
       "      <use x=\"457.617188\" xlink:href=\"#DejaVuSans-5f\"/>\r\n",
       "      <use x=\"507.617188\" xlink:href=\"#DejaVuSans-6c\"/>\r\n",
       "      <use x=\"535.400391\" xlink:href=\"#DejaVuSans-65\"/>\r\n",
       "      <use x=\"596.923828\" xlink:href=\"#DejaVuSans-6e\"/>\r\n",
       "      <use x=\"660.302734\" xlink:href=\"#DejaVuSans-67\"/>\r\n",
       "      <use x=\"723.779297\" xlink:href=\"#DejaVuSans-74\"/>\r\n",
       "      <use x=\"762.988281\" xlink:href=\"#DejaVuSans-68\"/>\r\n",
       "     </g>\r\n",
       "    </g>\r\n",
       "   </g>\r\n",
       "   <g id=\"matplotlib.axis_2\">\r\n",
       "    <g id=\"ytick_1\">\r\n",
       "     <g id=\"line2d_19\">\r\n",
       "      <path clip-path=\"url(#pec9fbc4baa)\" d=\"M 53.328125 239.758125 \r\n",
       "L 388.128125 239.758125 \r\n",
       "\" style=\"fill:none;stroke:#b0b0b0;stroke-linecap:square;stroke-width:0.8;\"/>\r\n",
       "     </g>\r\n",
       "     <g id=\"line2d_20\">\r\n",
       "      <defs>\r\n",
       "       <path d=\"M 0 0 \r\n",
       "L -3.5 0 \r\n",
       "\" id=\"m6ea7419903\" style=\"stroke:#000000;stroke-width:0.8;\"/>\r\n",
       "      </defs>\r\n",
       "      <g>\r\n",
       "       <use style=\"stroke:#000000;stroke-width:0.8;\" x=\"53.328125\" xlink:href=\"#m6ea7419903\" y=\"239.758125\"/>\r\n",
       "      </g>\r\n",
       "     </g>\r\n",
       "     <g id=\"text_11\">\r\n",
       "      <!-- 0 -->\r\n",
       "      <g transform=\"translate(39.965625 243.557344)scale(0.1 -0.1)\">\r\n",
       "       <use xlink:href=\"#DejaVuSans-30\"/>\r\n",
       "      </g>\r\n",
       "     </g>\r\n",
       "    </g>\r\n",
       "    <g id=\"ytick_2\">\r\n",
       "     <g id=\"line2d_21\">\r\n",
       "      <path clip-path=\"url(#pec9fbc4baa)\" d=\"M 53.328125 213.140424 \r\n",
       "L 388.128125 213.140424 \r\n",
       "\" style=\"fill:none;stroke:#b0b0b0;stroke-linecap:square;stroke-width:0.8;\"/>\r\n",
       "     </g>\r\n",
       "     <g id=\"line2d_22\">\r\n",
       "      <g>\r\n",
       "       <use style=\"stroke:#000000;stroke-width:0.8;\" x=\"53.328125\" xlink:href=\"#m6ea7419903\" y=\"213.140424\"/>\r\n",
       "      </g>\r\n",
       "     </g>\r\n",
       "     <g id=\"text_12\">\r\n",
       "      <!-- 200 -->\r\n",
       "      <g transform=\"translate(27.240625 216.939643)scale(0.1 -0.1)\">\r\n",
       "       <use xlink:href=\"#DejaVuSans-32\"/>\r\n",
       "       <use x=\"63.623047\" xlink:href=\"#DejaVuSans-30\"/>\r\n",
       "       <use x=\"127.246094\" xlink:href=\"#DejaVuSans-30\"/>\r\n",
       "      </g>\r\n",
       "     </g>\r\n",
       "    </g>\r\n",
       "    <g id=\"ytick_3\">\r\n",
       "     <g id=\"line2d_23\">\r\n",
       "      <path clip-path=\"url(#pec9fbc4baa)\" d=\"M 53.328125 186.522723 \r\n",
       "L 388.128125 186.522723 \r\n",
       "\" style=\"fill:none;stroke:#b0b0b0;stroke-linecap:square;stroke-width:0.8;\"/>\r\n",
       "     </g>\r\n",
       "     <g id=\"line2d_24\">\r\n",
       "      <g>\r\n",
       "       <use style=\"stroke:#000000;stroke-width:0.8;\" x=\"53.328125\" xlink:href=\"#m6ea7419903\" y=\"186.522723\"/>\r\n",
       "      </g>\r\n",
       "     </g>\r\n",
       "     <g id=\"text_13\">\r\n",
       "      <!-- 400 -->\r\n",
       "      <g transform=\"translate(27.240625 190.321942)scale(0.1 -0.1)\">\r\n",
       "       <use xlink:href=\"#DejaVuSans-34\"/>\r\n",
       "       <use x=\"63.623047\" xlink:href=\"#DejaVuSans-30\"/>\r\n",
       "       <use x=\"127.246094\" xlink:href=\"#DejaVuSans-30\"/>\r\n",
       "      </g>\r\n",
       "     </g>\r\n",
       "    </g>\r\n",
       "    <g id=\"ytick_4\">\r\n",
       "     <g id=\"line2d_25\">\r\n",
       "      <path clip-path=\"url(#pec9fbc4baa)\" d=\"M 53.328125 159.905022 \r\n",
       "L 388.128125 159.905022 \r\n",
       "\" style=\"fill:none;stroke:#b0b0b0;stroke-linecap:square;stroke-width:0.8;\"/>\r\n",
       "     </g>\r\n",
       "     <g id=\"line2d_26\">\r\n",
       "      <g>\r\n",
       "       <use style=\"stroke:#000000;stroke-width:0.8;\" x=\"53.328125\" xlink:href=\"#m6ea7419903\" y=\"159.905022\"/>\r\n",
       "      </g>\r\n",
       "     </g>\r\n",
       "     <g id=\"text_14\">\r\n",
       "      <!-- 600 -->\r\n",
       "      <defs>\r\n",
       "       <path d=\"M 33.015625 40.375 \r\n",
       "Q 26.375 40.375 22.484375 35.828125 \r\n",
       "Q 18.609375 31.296875 18.609375 23.390625 \r\n",
       "Q 18.609375 15.53125 22.484375 10.953125 \r\n",
       "Q 26.375 6.390625 33.015625 6.390625 \r\n",
       "Q 39.65625 6.390625 43.53125 10.953125 \r\n",
       "Q 47.40625 15.53125 47.40625 23.390625 \r\n",
       "Q 47.40625 31.296875 43.53125 35.828125 \r\n",
       "Q 39.65625 40.375 33.015625 40.375 \r\n",
       "z\r\n",
       "M 52.59375 71.296875 \r\n",
       "L 52.59375 62.3125 \r\n",
       "Q 48.875 64.0625 45.09375 64.984375 \r\n",
       "Q 41.3125 65.921875 37.59375 65.921875 \r\n",
       "Q 27.828125 65.921875 22.671875 59.328125 \r\n",
       "Q 17.53125 52.734375 16.796875 39.40625 \r\n",
       "Q 19.671875 43.65625 24.015625 45.921875 \r\n",
       "Q 28.375 48.1875 33.59375 48.1875 \r\n",
       "Q 44.578125 48.1875 50.953125 41.515625 \r\n",
       "Q 57.328125 34.859375 57.328125 23.390625 \r\n",
       "Q 57.328125 12.15625 50.6875 5.359375 \r\n",
       "Q 44.046875 -1.421875 33.015625 -1.421875 \r\n",
       "Q 20.359375 -1.421875 13.671875 8.265625 \r\n",
       "Q 6.984375 17.96875 6.984375 36.375 \r\n",
       "Q 6.984375 53.65625 15.1875 63.9375 \r\n",
       "Q 23.390625 74.21875 37.203125 74.21875 \r\n",
       "Q 40.921875 74.21875 44.703125 73.484375 \r\n",
       "Q 48.484375 72.75 52.59375 71.296875 \r\n",
       "z\r\n",
       "\" id=\"DejaVuSans-36\"/>\r\n",
       "      </defs>\r\n",
       "      <g transform=\"translate(27.240625 163.704241)scale(0.1 -0.1)\">\r\n",
       "       <use xlink:href=\"#DejaVuSans-36\"/>\r\n",
       "       <use x=\"63.623047\" xlink:href=\"#DejaVuSans-30\"/>\r\n",
       "       <use x=\"127.246094\" xlink:href=\"#DejaVuSans-30\"/>\r\n",
       "      </g>\r\n",
       "     </g>\r\n",
       "    </g>\r\n",
       "    <g id=\"ytick_5\">\r\n",
       "     <g id=\"line2d_27\">\r\n",
       "      <path clip-path=\"url(#pec9fbc4baa)\" d=\"M 53.328125 133.287321 \r\n",
       "L 388.128125 133.287321 \r\n",
       "\" style=\"fill:none;stroke:#b0b0b0;stroke-linecap:square;stroke-width:0.8;\"/>\r\n",
       "     </g>\r\n",
       "     <g id=\"line2d_28\">\r\n",
       "      <g>\r\n",
       "       <use style=\"stroke:#000000;stroke-width:0.8;\" x=\"53.328125\" xlink:href=\"#m6ea7419903\" y=\"133.287321\"/>\r\n",
       "      </g>\r\n",
       "     </g>\r\n",
       "     <g id=\"text_15\">\r\n",
       "      <!-- 800 -->\r\n",
       "      <defs>\r\n",
       "       <path d=\"M 31.78125 34.625 \r\n",
       "Q 24.75 34.625 20.71875 30.859375 \r\n",
       "Q 16.703125 27.09375 16.703125 20.515625 \r\n",
       "Q 16.703125 13.921875 20.71875 10.15625 \r\n",
       "Q 24.75 6.390625 31.78125 6.390625 \r\n",
       "Q 38.8125 6.390625 42.859375 10.171875 \r\n",
       "Q 46.921875 13.96875 46.921875 20.515625 \r\n",
       "Q 46.921875 27.09375 42.890625 30.859375 \r\n",
       "Q 38.875 34.625 31.78125 34.625 \r\n",
       "z\r\n",
       "M 21.921875 38.8125 \r\n",
       "Q 15.578125 40.375 12.03125 44.71875 \r\n",
       "Q 8.5 49.078125 8.5 55.328125 \r\n",
       "Q 8.5 64.0625 14.71875 69.140625 \r\n",
       "Q 20.953125 74.21875 31.78125 74.21875 \r\n",
       "Q 42.671875 74.21875 48.875 69.140625 \r\n",
       "Q 55.078125 64.0625 55.078125 55.328125 \r\n",
       "Q 55.078125 49.078125 51.53125 44.71875 \r\n",
       "Q 48 40.375 41.703125 38.8125 \r\n",
       "Q 48.828125 37.15625 52.796875 32.3125 \r\n",
       "Q 56.78125 27.484375 56.78125 20.515625 \r\n",
       "Q 56.78125 9.90625 50.3125 4.234375 \r\n",
       "Q 43.84375 -1.421875 31.78125 -1.421875 \r\n",
       "Q 19.734375 -1.421875 13.25 4.234375 \r\n",
       "Q 6.78125 9.90625 6.78125 20.515625 \r\n",
       "Q 6.78125 27.484375 10.78125 32.3125 \r\n",
       "Q 14.796875 37.15625 21.921875 38.8125 \r\n",
       "z\r\n",
       "M 18.3125 54.390625 \r\n",
       "Q 18.3125 48.734375 21.84375 45.5625 \r\n",
       "Q 25.390625 42.390625 31.78125 42.390625 \r\n",
       "Q 38.140625 42.390625 41.71875 45.5625 \r\n",
       "Q 45.3125 48.734375 45.3125 54.390625 \r\n",
       "Q 45.3125 60.0625 41.71875 63.234375 \r\n",
       "Q 38.140625 66.40625 31.78125 66.40625 \r\n",
       "Q 25.390625 66.40625 21.84375 63.234375 \r\n",
       "Q 18.3125 60.0625 18.3125 54.390625 \r\n",
       "z\r\n",
       "\" id=\"DejaVuSans-38\"/>\r\n",
       "      </defs>\r\n",
       "      <g transform=\"translate(27.240625 137.086539)scale(0.1 -0.1)\">\r\n",
       "       <use xlink:href=\"#DejaVuSans-38\"/>\r\n",
       "       <use x=\"63.623047\" xlink:href=\"#DejaVuSans-30\"/>\r\n",
       "       <use x=\"127.246094\" xlink:href=\"#DejaVuSans-30\"/>\r\n",
       "      </g>\r\n",
       "     </g>\r\n",
       "    </g>\r\n",
       "    <g id=\"ytick_6\">\r\n",
       "     <g id=\"line2d_29\">\r\n",
       "      <path clip-path=\"url(#pec9fbc4baa)\" d=\"M 53.328125 106.66962 \r\n",
       "L 388.128125 106.66962 \r\n",
       "\" style=\"fill:none;stroke:#b0b0b0;stroke-linecap:square;stroke-width:0.8;\"/>\r\n",
       "     </g>\r\n",
       "     <g id=\"line2d_30\">\r\n",
       "      <g>\r\n",
       "       <use style=\"stroke:#000000;stroke-width:0.8;\" x=\"53.328125\" xlink:href=\"#m6ea7419903\" y=\"106.66962\"/>\r\n",
       "      </g>\r\n",
       "     </g>\r\n",
       "     <g id=\"text_16\">\r\n",
       "      <!-- 1000 -->\r\n",
       "      <g transform=\"translate(20.878125 110.468838)scale(0.1 -0.1)\">\r\n",
       "       <use xlink:href=\"#DejaVuSans-31\"/>\r\n",
       "       <use x=\"63.623047\" xlink:href=\"#DejaVuSans-30\"/>\r\n",
       "       <use x=\"127.246094\" xlink:href=\"#DejaVuSans-30\"/>\r\n",
       "       <use x=\"190.869141\" xlink:href=\"#DejaVuSans-30\"/>\r\n",
       "      </g>\r\n",
       "     </g>\r\n",
       "    </g>\r\n",
       "    <g id=\"ytick_7\">\r\n",
       "     <g id=\"line2d_31\">\r\n",
       "      <path clip-path=\"url(#pec9fbc4baa)\" d=\"M 53.328125 80.051919 \r\n",
       "L 388.128125 80.051919 \r\n",
       "\" style=\"fill:none;stroke:#b0b0b0;stroke-linecap:square;stroke-width:0.8;\"/>\r\n",
       "     </g>\r\n",
       "     <g id=\"line2d_32\">\r\n",
       "      <g>\r\n",
       "       <use style=\"stroke:#000000;stroke-width:0.8;\" x=\"53.328125\" xlink:href=\"#m6ea7419903\" y=\"80.051919\"/>\r\n",
       "      </g>\r\n",
       "     </g>\r\n",
       "     <g id=\"text_17\">\r\n",
       "      <!-- 1200 -->\r\n",
       "      <g transform=\"translate(20.878125 83.851137)scale(0.1 -0.1)\">\r\n",
       "       <use xlink:href=\"#DejaVuSans-31\"/>\r\n",
       "       <use x=\"63.623047\" xlink:href=\"#DejaVuSans-32\"/>\r\n",
       "       <use x=\"127.246094\" xlink:href=\"#DejaVuSans-30\"/>\r\n",
       "       <use x=\"190.869141\" xlink:href=\"#DejaVuSans-30\"/>\r\n",
       "      </g>\r\n",
       "     </g>\r\n",
       "    </g>\r\n",
       "    <g id=\"ytick_8\">\r\n",
       "     <g id=\"line2d_33\">\r\n",
       "      <path clip-path=\"url(#pec9fbc4baa)\" d=\"M 53.328125 53.434218 \r\n",
       "L 388.128125 53.434218 \r\n",
       "\" style=\"fill:none;stroke:#b0b0b0;stroke-linecap:square;stroke-width:0.8;\"/>\r\n",
       "     </g>\r\n",
       "     <g id=\"line2d_34\">\r\n",
       "      <g>\r\n",
       "       <use style=\"stroke:#000000;stroke-width:0.8;\" x=\"53.328125\" xlink:href=\"#m6ea7419903\" y=\"53.434218\"/>\r\n",
       "      </g>\r\n",
       "     </g>\r\n",
       "     <g id=\"text_18\">\r\n",
       "      <!-- 1400 -->\r\n",
       "      <g transform=\"translate(20.878125 57.233436)scale(0.1 -0.1)\">\r\n",
       "       <use xlink:href=\"#DejaVuSans-31\"/>\r\n",
       "       <use x=\"63.623047\" xlink:href=\"#DejaVuSans-34\"/>\r\n",
       "       <use x=\"127.246094\" xlink:href=\"#DejaVuSans-30\"/>\r\n",
       "       <use x=\"190.869141\" xlink:href=\"#DejaVuSans-30\"/>\r\n",
       "      </g>\r\n",
       "     </g>\r\n",
       "    </g>\r\n",
       "    <g id=\"ytick_9\">\r\n",
       "     <g id=\"line2d_35\">\r\n",
       "      <path clip-path=\"url(#pec9fbc4baa)\" d=\"M 53.328125 26.816516 \r\n",
       "L 388.128125 26.816516 \r\n",
       "\" style=\"fill:none;stroke:#b0b0b0;stroke-linecap:square;stroke-width:0.8;\"/>\r\n",
       "     </g>\r\n",
       "     <g id=\"line2d_36\">\r\n",
       "      <g>\r\n",
       "       <use style=\"stroke:#000000;stroke-width:0.8;\" x=\"53.328125\" xlink:href=\"#m6ea7419903\" y=\"26.816516\"/>\r\n",
       "      </g>\r\n",
       "     </g>\r\n",
       "     <g id=\"text_19\">\r\n",
       "      <!-- 1600 -->\r\n",
       "      <g transform=\"translate(20.878125 30.615735)scale(0.1 -0.1)\">\r\n",
       "       <use xlink:href=\"#DejaVuSans-31\"/>\r\n",
       "       <use x=\"63.623047\" xlink:href=\"#DejaVuSans-36\"/>\r\n",
       "       <use x=\"127.246094\" xlink:href=\"#DejaVuSans-30\"/>\r\n",
       "       <use x=\"190.869141\" xlink:href=\"#DejaVuSans-30\"/>\r\n",
       "      </g>\r\n",
       "     </g>\r\n",
       "    </g>\r\n",
       "    <g id=\"text_20\">\r\n",
       "     <!-- sentence_num -->\r\n",
       "     <defs>\r\n",
       "      <path d=\"M 8.5 21.578125 \r\n",
       "L 8.5 54.6875 \r\n",
       "L 17.484375 54.6875 \r\n",
       "L 17.484375 21.921875 \r\n",
       "Q 17.484375 14.15625 20.5 10.265625 \r\n",
       "Q 23.53125 6.390625 29.59375 6.390625 \r\n",
       "Q 36.859375 6.390625 41.078125 11.03125 \r\n",
       "Q 45.3125 15.671875 45.3125 23.6875 \r\n",
       "L 45.3125 54.6875 \r\n",
       "L 54.296875 54.6875 \r\n",
       "L 54.296875 0 \r\n",
       "L 45.3125 0 \r\n",
       "L 45.3125 8.40625 \r\n",
       "Q 42.046875 3.421875 37.71875 1 \r\n",
       "Q 33.40625 -1.421875 27.6875 -1.421875 \r\n",
       "Q 18.265625 -1.421875 13.375 4.4375 \r\n",
       "Q 8.5 10.296875 8.5 21.578125 \r\n",
       "z\r\n",
       "M 31.109375 56 \r\n",
       "z\r\n",
       "\" id=\"DejaVuSans-75\"/>\r\n",
       "      <path d=\"M 52 44.1875 \r\n",
       "Q 55.375 50.25 60.0625 53.125 \r\n",
       "Q 64.75 56 71.09375 56 \r\n",
       "Q 79.640625 56 84.28125 50.015625 \r\n",
       "Q 88.921875 44.046875 88.921875 33.015625 \r\n",
       "L 88.921875 0 \r\n",
       "L 79.890625 0 \r\n",
       "L 79.890625 32.71875 \r\n",
       "Q 79.890625 40.578125 77.09375 44.375 \r\n",
       "Q 74.3125 48.1875 68.609375 48.1875 \r\n",
       "Q 61.625 48.1875 57.5625 43.546875 \r\n",
       "Q 53.515625 38.921875 53.515625 30.90625 \r\n",
       "L 53.515625 0 \r\n",
       "L 44.484375 0 \r\n",
       "L 44.484375 32.71875 \r\n",
       "Q 44.484375 40.625 41.703125 44.40625 \r\n",
       "Q 38.921875 48.1875 33.109375 48.1875 \r\n",
       "Q 26.21875 48.1875 22.15625 43.53125 \r\n",
       "Q 18.109375 38.875 18.109375 30.90625 \r\n",
       "L 18.109375 0 \r\n",
       "L 9.078125 0 \r\n",
       "L 9.078125 54.6875 \r\n",
       "L 18.109375 54.6875 \r\n",
       "L 18.109375 46.1875 \r\n",
       "Q 21.1875 51.21875 25.484375 53.609375 \r\n",
       "Q 29.78125 56 35.6875 56 \r\n",
       "Q 41.65625 56 45.828125 52.96875 \r\n",
       "Q 50 49.953125 52 44.1875 \r\n",
       "z\r\n",
       "\" id=\"DejaVuSans-6d\"/>\r\n",
       "     </defs>\r\n",
       "     <g transform=\"translate(14.520313 167.627188)rotate(-90)scale(0.1 -0.1)\">\r\n",
       "      <use xlink:href=\"#DejaVuSans-73\"/>\r\n",
       "      <use x=\"52.099609\" xlink:href=\"#DejaVuSans-65\"/>\r\n",
       "      <use x=\"113.623047\" xlink:href=\"#DejaVuSans-6e\"/>\r\n",
       "      <use x=\"177.001953\" xlink:href=\"#DejaVuSans-74\"/>\r\n",
       "      <use x=\"216.210938\" xlink:href=\"#DejaVuSans-65\"/>\r\n",
       "      <use x=\"277.734375\" xlink:href=\"#DejaVuSans-6e\"/>\r\n",
       "      <use x=\"341.113281\" xlink:href=\"#DejaVuSans-63\"/>\r\n",
       "      <use x=\"396.09375\" xlink:href=\"#DejaVuSans-65\"/>\r\n",
       "      <use x=\"457.617188\" xlink:href=\"#DejaVuSans-5f\"/>\r\n",
       "      <use x=\"507.617188\" xlink:href=\"#DejaVuSans-6e\"/>\r\n",
       "      <use x=\"570.996094\" xlink:href=\"#DejaVuSans-75\"/>\r\n",
       "      <use x=\"634.375\" xlink:href=\"#DejaVuSans-6d\"/>\r\n",
       "     </g>\r\n",
       "    </g>\r\n",
       "   </g>\r\n",
       "   <g id=\"patch_43\">\r\n",
       "    <path d=\"M 53.328125 239.758125 \r\n",
       "L 53.328125 22.318125 \r\n",
       "\" style=\"fill:none;stroke:#000000;stroke-linecap:square;stroke-linejoin:miter;stroke-width:0.8;\"/>\r\n",
       "   </g>\r\n",
       "   <g id=\"patch_44\">\r\n",
       "    <path d=\"M 388.128125 239.758125 \r\n",
       "L 388.128125 22.318125 \r\n",
       "\" style=\"fill:none;stroke:#000000;stroke-linecap:square;stroke-linejoin:miter;stroke-width:0.8;\"/>\r\n",
       "   </g>\r\n",
       "   <g id=\"patch_45\">\r\n",
       "    <path d=\"M 53.328125 239.758125 \r\n",
       "L 388.128125 239.758125 \r\n",
       "\" style=\"fill:none;stroke:#000000;stroke-linecap:square;stroke-linejoin:miter;stroke-width:0.8;\"/>\r\n",
       "   </g>\r\n",
       "   <g id=\"patch_46\">\r\n",
       "    <path d=\"M 53.328125 22.318125 \r\n",
       "L 388.128125 22.318125 \r\n",
       "\" style=\"fill:none;stroke:#000000;stroke-linecap:square;stroke-linejoin:miter;stroke-width:0.8;\"/>\r\n",
       "   </g>\r\n",
       "   <g id=\"text_21\">\r\n",
       "    <!-- Distribution of the Length of Sentence -->\r\n",
       "    <defs>\r\n",
       "     <path d=\"M 19.671875 64.796875 \r\n",
       "L 19.671875 8.109375 \r\n",
       "L 31.59375 8.109375 \r\n",
       "Q 46.6875 8.109375 53.6875 14.9375 \r\n",
       "Q 60.6875 21.78125 60.6875 36.53125 \r\n",
       "Q 60.6875 51.171875 53.6875 57.984375 \r\n",
       "Q 46.6875 64.796875 31.59375 64.796875 \r\n",
       "z\r\n",
       "M 9.8125 72.90625 \r\n",
       "L 30.078125 72.90625 \r\n",
       "Q 51.265625 72.90625 61.171875 64.09375 \r\n",
       "Q 71.09375 55.28125 71.09375 36.53125 \r\n",
       "Q 71.09375 17.671875 61.125 8.828125 \r\n",
       "Q 51.171875 0 30.078125 0 \r\n",
       "L 9.8125 0 \r\n",
       "z\r\n",
       "\" id=\"DejaVuSans-44\"/>\r\n",
       "     <path d=\"M 9.421875 54.6875 \r\n",
       "L 18.40625 54.6875 \r\n",
       "L 18.40625 0 \r\n",
       "L 9.421875 0 \r\n",
       "z\r\n",
       "M 9.421875 75.984375 \r\n",
       "L 18.40625 75.984375 \r\n",
       "L 18.40625 64.59375 \r\n",
       "L 9.421875 64.59375 \r\n",
       "z\r\n",
       "\" id=\"DejaVuSans-69\"/>\r\n",
       "     <path d=\"M 41.109375 46.296875 \r\n",
       "Q 39.59375 47.171875 37.8125 47.578125 \r\n",
       "Q 36.03125 48 33.890625 48 \r\n",
       "Q 26.265625 48 22.1875 43.046875 \r\n",
       "Q 18.109375 38.09375 18.109375 28.8125 \r\n",
       "L 18.109375 0 \r\n",
       "L 9.078125 0 \r\n",
       "L 9.078125 54.6875 \r\n",
       "L 18.109375 54.6875 \r\n",
       "L 18.109375 46.1875 \r\n",
       "Q 20.953125 51.171875 25.484375 53.578125 \r\n",
       "Q 30.03125 56 36.53125 56 \r\n",
       "Q 37.453125 56 38.578125 55.875 \r\n",
       "Q 39.703125 55.765625 41.0625 55.515625 \r\n",
       "z\r\n",
       "\" id=\"DejaVuSans-72\"/>\r\n",
       "     <path d=\"M 48.6875 27.296875 \r\n",
       "Q 48.6875 37.203125 44.609375 42.84375 \r\n",
       "Q 40.53125 48.484375 33.40625 48.484375 \r\n",
       "Q 26.265625 48.484375 22.1875 42.84375 \r\n",
       "Q 18.109375 37.203125 18.109375 27.296875 \r\n",
       "Q 18.109375 17.390625 22.1875 11.75 \r\n",
       "Q 26.265625 6.109375 33.40625 6.109375 \r\n",
       "Q 40.53125 6.109375 44.609375 11.75 \r\n",
       "Q 48.6875 17.390625 48.6875 27.296875 \r\n",
       "z\r\n",
       "M 18.109375 46.390625 \r\n",
       "Q 20.953125 51.265625 25.265625 53.625 \r\n",
       "Q 29.59375 56 35.59375 56 \r\n",
       "Q 45.5625 56 51.78125 48.09375 \r\n",
       "Q 58.015625 40.1875 58.015625 27.296875 \r\n",
       "Q 58.015625 14.40625 51.78125 6.484375 \r\n",
       "Q 45.5625 -1.421875 35.59375 -1.421875 \r\n",
       "Q 29.59375 -1.421875 25.265625 0.953125 \r\n",
       "Q 20.953125 3.328125 18.109375 8.203125 \r\n",
       "L 18.109375 0 \r\n",
       "L 9.078125 0 \r\n",
       "L 9.078125 75.984375 \r\n",
       "L 18.109375 75.984375 \r\n",
       "z\r\n",
       "\" id=\"DejaVuSans-62\"/>\r\n",
       "     <path d=\"M 30.609375 48.390625 \r\n",
       "Q 23.390625 48.390625 19.1875 42.75 \r\n",
       "Q 14.984375 37.109375 14.984375 27.296875 \r\n",
       "Q 14.984375 17.484375 19.15625 11.84375 \r\n",
       "Q 23.34375 6.203125 30.609375 6.203125 \r\n",
       "Q 37.796875 6.203125 41.984375 11.859375 \r\n",
       "Q 46.1875 17.53125 46.1875 27.296875 \r\n",
       "Q 46.1875 37.015625 41.984375 42.703125 \r\n",
       "Q 37.796875 48.390625 30.609375 48.390625 \r\n",
       "z\r\n",
       "M 30.609375 56 \r\n",
       "Q 42.328125 56 49.015625 48.375 \r\n",
       "Q 55.71875 40.765625 55.71875 27.296875 \r\n",
       "Q 55.71875 13.875 49.015625 6.21875 \r\n",
       "Q 42.328125 -1.421875 30.609375 -1.421875 \r\n",
       "Q 18.84375 -1.421875 12.171875 6.21875 \r\n",
       "Q 5.515625 13.875 5.515625 27.296875 \r\n",
       "Q 5.515625 40.765625 12.171875 48.375 \r\n",
       "Q 18.84375 56 30.609375 56 \r\n",
       "z\r\n",
       "\" id=\"DejaVuSans-6f\"/>\r\n",
       "     <path id=\"DejaVuSans-20\"/>\r\n",
       "     <path d=\"M 37.109375 75.984375 \r\n",
       "L 37.109375 68.5 \r\n",
       "L 28.515625 68.5 \r\n",
       "Q 23.6875 68.5 21.796875 66.546875 \r\n",
       "Q 19.921875 64.59375 19.921875 59.515625 \r\n",
       "L 19.921875 54.6875 \r\n",
       "L 34.71875 54.6875 \r\n",
       "L 34.71875 47.703125 \r\n",
       "L 19.921875 47.703125 \r\n",
       "L 19.921875 0 \r\n",
       "L 10.890625 0 \r\n",
       "L 10.890625 47.703125 \r\n",
       "L 2.296875 47.703125 \r\n",
       "L 2.296875 54.6875 \r\n",
       "L 10.890625 54.6875 \r\n",
       "L 10.890625 58.5 \r\n",
       "Q 10.890625 67.625 15.140625 71.796875 \r\n",
       "Q 19.390625 75.984375 28.609375 75.984375 \r\n",
       "z\r\n",
       "\" id=\"DejaVuSans-66\"/>\r\n",
       "     <path d=\"M 9.8125 72.90625 \r\n",
       "L 19.671875 72.90625 \r\n",
       "L 19.671875 8.296875 \r\n",
       "L 55.171875 8.296875 \r\n",
       "L 55.171875 0 \r\n",
       "L 9.8125 0 \r\n",
       "z\r\n",
       "\" id=\"DejaVuSans-4c\"/>\r\n",
       "     <path d=\"M 53.515625 70.515625 \r\n",
       "L 53.515625 60.890625 \r\n",
       "Q 47.90625 63.578125 42.921875 64.890625 \r\n",
       "Q 37.9375 66.21875 33.296875 66.21875 \r\n",
       "Q 25.25 66.21875 20.875 63.09375 \r\n",
       "Q 16.5 59.96875 16.5 54.203125 \r\n",
       "Q 16.5 49.359375 19.40625 46.890625 \r\n",
       "Q 22.3125 44.4375 30.421875 42.921875 \r\n",
       "L 36.375 41.703125 \r\n",
       "Q 47.40625 39.59375 52.65625 34.296875 \r\n",
       "Q 57.90625 29 57.90625 20.125 \r\n",
       "Q 57.90625 9.515625 50.796875 4.046875 \r\n",
       "Q 43.703125 -1.421875 29.984375 -1.421875 \r\n",
       "Q 24.8125 -1.421875 18.96875 -0.25 \r\n",
       "Q 13.140625 0.921875 6.890625 3.21875 \r\n",
       "L 6.890625 13.375 \r\n",
       "Q 12.890625 10.015625 18.65625 8.296875 \r\n",
       "Q 24.421875 6.59375 29.984375 6.59375 \r\n",
       "Q 38.421875 6.59375 43.015625 9.90625 \r\n",
       "Q 47.609375 13.234375 47.609375 19.390625 \r\n",
       "Q 47.609375 24.75 44.3125 27.78125 \r\n",
       "Q 41.015625 30.8125 33.5 32.328125 \r\n",
       "L 27.484375 33.5 \r\n",
       "Q 16.453125 35.6875 11.515625 40.375 \r\n",
       "Q 6.59375 45.0625 6.59375 53.421875 \r\n",
       "Q 6.59375 63.09375 13.40625 68.65625 \r\n",
       "Q 20.21875 74.21875 32.171875 74.21875 \r\n",
       "Q 37.3125 74.21875 42.625 73.28125 \r\n",
       "Q 47.953125 72.359375 53.515625 70.515625 \r\n",
       "z\r\n",
       "\" id=\"DejaVuSans-53\"/>\r\n",
       "    </defs>\r\n",
       "    <g transform=\"translate(105.836563 16.318125)scale(0.12 -0.12)\">\r\n",
       "     <use xlink:href=\"#DejaVuSans-44\"/>\r\n",
       "     <use x=\"77.001953\" xlink:href=\"#DejaVuSans-69\"/>\r\n",
       "     <use x=\"104.785156\" xlink:href=\"#DejaVuSans-73\"/>\r\n",
       "     <use x=\"156.884766\" xlink:href=\"#DejaVuSans-74\"/>\r\n",
       "     <use x=\"196.09375\" xlink:href=\"#DejaVuSans-72\"/>\r\n",
       "     <use x=\"237.207031\" xlink:href=\"#DejaVuSans-69\"/>\r\n",
       "     <use x=\"264.990234\" xlink:href=\"#DejaVuSans-62\"/>\r\n",
       "     <use x=\"328.466797\" xlink:href=\"#DejaVuSans-75\"/>\r\n",
       "     <use x=\"391.845703\" xlink:href=\"#DejaVuSans-74\"/>\r\n",
       "     <use x=\"431.054688\" xlink:href=\"#DejaVuSans-69\"/>\r\n",
       "     <use x=\"458.837891\" xlink:href=\"#DejaVuSans-6f\"/>\r\n",
       "     <use x=\"520.019531\" xlink:href=\"#DejaVuSans-6e\"/>\r\n",
       "     <use x=\"583.398438\" xlink:href=\"#DejaVuSans-20\"/>\r\n",
       "     <use x=\"615.185547\" xlink:href=\"#DejaVuSans-6f\"/>\r\n",
       "     <use x=\"676.367188\" xlink:href=\"#DejaVuSans-66\"/>\r\n",
       "     <use x=\"711.572266\" xlink:href=\"#DejaVuSans-20\"/>\r\n",
       "     <use x=\"743.359375\" xlink:href=\"#DejaVuSans-74\"/>\r\n",
       "     <use x=\"782.568359\" xlink:href=\"#DejaVuSans-68\"/>\r\n",
       "     <use x=\"845.947266\" xlink:href=\"#DejaVuSans-65\"/>\r\n",
       "     <use x=\"907.470703\" xlink:href=\"#DejaVuSans-20\"/>\r\n",
       "     <use x=\"939.257812\" xlink:href=\"#DejaVuSans-4c\"/>\r\n",
       "     <use x=\"994.955078\" xlink:href=\"#DejaVuSans-65\"/>\r\n",
       "     <use x=\"1056.478516\" xlink:href=\"#DejaVuSans-6e\"/>\r\n",
       "     <use x=\"1119.857422\" xlink:href=\"#DejaVuSans-67\"/>\r\n",
       "     <use x=\"1183.333984\" xlink:href=\"#DejaVuSans-74\"/>\r\n",
       "     <use x=\"1222.542969\" xlink:href=\"#DejaVuSans-68\"/>\r\n",
       "     <use x=\"1285.921875\" xlink:href=\"#DejaVuSans-20\"/>\r\n",
       "     <use x=\"1317.708984\" xlink:href=\"#DejaVuSans-6f\"/>\r\n",
       "     <use x=\"1378.890625\" xlink:href=\"#DejaVuSans-66\"/>\r\n",
       "     <use x=\"1414.095703\" xlink:href=\"#DejaVuSans-20\"/>\r\n",
       "     <use x=\"1445.882812\" xlink:href=\"#DejaVuSans-53\"/>\r\n",
       "     <use x=\"1509.359375\" xlink:href=\"#DejaVuSans-65\"/>\r\n",
       "     <use x=\"1570.882812\" xlink:href=\"#DejaVuSans-6e\"/>\r\n",
       "     <use x=\"1634.261719\" xlink:href=\"#DejaVuSans-74\"/>\r\n",
       "     <use x=\"1673.470703\" xlink:href=\"#DejaVuSans-65\"/>\r\n",
       "     <use x=\"1734.994141\" xlink:href=\"#DejaVuSans-6e\"/>\r\n",
       "     <use x=\"1798.373047\" xlink:href=\"#DejaVuSans-63\"/>\r\n",
       "     <use x=\"1853.353516\" xlink:href=\"#DejaVuSans-65\"/>\r\n",
       "    </g>\r\n",
       "   </g>\r\n",
       "  </g>\r\n",
       " </g>\r\n",
       " <defs>\r\n",
       "  <clipPath id=\"pec9fbc4baa\">\r\n",
       "   <rect height=\"217.44\" width=\"334.8\" x=\"53.328125\" y=\"22.318125\"/>\r\n",
       "  </clipPath>\r\n",
       " </defs>\r\n",
       "</svg>\r\n"
      ],
      "text/plain": [
       "<matplotlib.figure.Figure at 0x22a7f0ab320>"
      ]
     },
     "metadata": {},
     "output_type": "display_data"
    }
   ],
   "source": [
    "df_data['sentence_len'].hist(bins=40)\n",
    "plt.xlim(0, 40)\n",
    "plt.xlabel('sentence_length')\n",
    "plt.ylabel('sentence_num')\n",
    "plt.title('Distribution of the Length of Sentence')\n",
    "plt.show()"
   ]
  },
  {
   "cell_type": "markdown",
   "metadata": {},
   "source": [
    "## Model"
   ]
  },
  {
   "cell_type": "markdown",
   "metadata": {},
   "source": [
    "- 문장의 최대 길이를 확인합니다."
   ]
  },
  {
   "cell_type": "code",
   "execution_count": 19,
   "metadata": {},
   "outputs": [
    {
     "name": "stdout",
     "output_type": "stream",
     "text": [
      "35\n"
     ]
    }
   ],
   "source": [
    "max_len = len(max(text, key=len))\n",
    "print(max_len)"
   ]
  },
  {
   "cell_type": "markdown",
   "metadata": {},
   "source": [
    "- Input 데이터 Matrix의 학습을 위해 Padding을 진행합니다."
   ]
  },
  {
   "cell_type": "code",
   "execution_count": 20,
   "metadata": {},
   "outputs": [],
   "source": [
    "X = sequence.pad_sequences(idx_text, value=0.)\n",
    "Y = sequence.pad_sequences(opinion, value=0.)"
   ]
  },
  {
   "cell_type": "markdown",
   "metadata": {},
   "source": [
    "#### __데이터 분리__\n",
    "다음과 같은 기준으로 분리되었습니다.\n",
    "- 데이터 비율\n",
    "    - Train: 60%\n",
    "    - Validate: 20%\n",
    "    - Test: 20%\n",
    "- 데이터 선택 기준: Random 선택 (순서에 상관없이 선택됨)"
   ]
  },
  {
   "cell_type": "code",
   "execution_count": 21,
   "metadata": {},
   "outputs": [
    {
     "name": "stdout",
     "output_type": "stream",
     "text": [
      "X_train.shape: (10200, 35), Y_train.shape: (10200, 35)\n",
      "X_valid.shape: (3400, 35), Y_valid.shape: (3400, 35)\n",
      "X_test.shape: (3400, 35), Y_test.shape: (3400, 35)\n"
     ]
    }
   ],
   "source": [
    "# Test Set Split\n",
    "from sklearn.model_selection import train_test_split\n",
    "\n",
    "X_train, X_test, Y_train, Y_test = train_test_split(X, Y, test_size=0.2)\n",
    "X_train, X_valid, Y_train, Y_valid = train_test_split(X_train, Y_train, test_size=0.25)\n",
    "\n",
    "print('X_train.shape: {}, Y_train.shape: {}'.format(X_train.shape, Y_train.shape))\n",
    "print('X_valid.shape: {}, Y_valid.shape: {}'.format(X_valid.shape, Y_valid.shape))\n",
    "print('X_test.shape: {}, Y_test.shape: {}'.format(X_test.shape, Y_test.shape))"
   ]
  },
  {
   "cell_type": "markdown",
   "metadata": {},
   "source": [
    "- 한번에 전체 데이터를 다 학습할 수 없는 경우를 대비하여 Batch Class생성을 통해 Mini-Batch를 만들기 용이하게 합니다."
   ]
  },
  {
   "cell_type": "code",
   "execution_count": 22,
   "metadata": {},
   "outputs": [
    {
     "name": "stdout",
     "output_type": "stream",
     "text": [
      "Creating the data generator ...\n",
      "Finished creating the data generator.\n"
     ]
    }
   ],
   "source": [
    "# Build the data generator\n",
    "class BatchGenerator(object):\n",
    "    \"\"\"\n",
    "    Construct a Data generator. The input X, y should be ndarray or list like type.\n",
    "    \n",
    "    Example:\n",
    "        Data_train = BatchGenerator(X=X_train_all, y=y_train_all, shuffle=False)\n",
    "        Data_test = BatchGenerator(X=X_test_all, y=y_test_all, shuffle=False)\n",
    "        X = Data_train.X\n",
    "        y = Data_train.y\n",
    "        or:\n",
    "        X_batch, y_batch = Data_train.next_batch(batch_size)\n",
    "    \"\"\"\n",
    "    \n",
    "    def __init__(self, X, Y, shuffle=False):\n",
    "        if type(X) != np.ndarray:\n",
    "            X = np.asarray(X)\n",
    "        if type(Y) != np.ndarray:\n",
    "            Y = np.asarray(Y)\n",
    "        self._X = X\n",
    "        self._Y = Y\n",
    "        self._epochs_completed = 0\n",
    "        self._index_in_epoch = 0\n",
    "        self._number_examples = self._X.shape[0]\n",
    "        self._shuffle = shuffle\n",
    "        if self._shuffle:\n",
    "            new_index = np.random.permutation(self._number_examples)\n",
    "            self._X = self._X[new_index]\n",
    "            self._Y = self._Y[new_index]\n",
    "            \n",
    "    @property\n",
    "    def X(self):\n",
    "        return self._X\n",
    "    \n",
    "    @property\n",
    "    def Y(self):\n",
    "        return self._Y\n",
    "    \n",
    "    @property\n",
    "    def num_examples(self):\n",
    "        return self._number_examples\n",
    "    \n",
    "    @property\n",
    "    def epochs_completed(self):\n",
    "        return self._epochs_completed\n",
    "    \n",
    "    def next_batch(self, batch_size):\n",
    "        # Return the next 'batch_size' examples from this dataset.\n",
    "        start = self._index_in_epoch\n",
    "        self._index_in_epoch += batch_size\n",
    "        if self._index_in_epoch > self._number_examples:\n",
    "            # Finished epoch\n",
    "            self._epochs_completed += 1\n",
    "            \n",
    "            # Shuffle the data\n",
    "            if self._shuffle:\n",
    "                new_index = np.random.permutation(self._number_examples)\n",
    "                self._X = self._X[new_index]\n",
    "                self._Y = self._Y[new_index]\n",
    "            start = 0\n",
    "            self._index_in_epoch = batch_size\n",
    "            assert batch_size <= self._number_examples\n",
    "        end = self._index_in_epoch\n",
    "        return self._X[start:end], self._Y[start:end]\n",
    "    \n",
    "print('Creating the data generator ...')\n",
    "data_train = BatchGenerator(X_train, Y_train, shuffle=True)\n",
    "data_valid = BatchGenerator(X_valid, Y_valid, shuffle=False)\n",
    "data_test = BatchGenerator(X_test, Y_test, shuffle=False)\n",
    "\n",
    "print('Finished creating the data generator.')"
   ]
  },
  {
   "cell_type": "markdown",
   "metadata": {},
   "source": [
    "## 모델 구성"
   ]
  },
  {
   "cell_type": "code",
   "execution_count": 23,
   "metadata": {},
   "outputs": [],
   "source": [
    "config = tf.ConfigProto()\n",
    "config.gpu_options.allow_growth = True    # GPU사용 옵션관련\n",
    "sess = tf.Session(config=config)"
   ]
  },
  {
   "cell_type": "markdown",
   "metadata": {},
   "source": [
    "- 모델의 구성을 위해 Hyperparameter를 설정합니다. 항목은 다음과 같습니다.\n",
    "    - Decay Rate\n",
    "    - Epoch: Iterate할 횟수 (Dataset 전체를 몇번 학습하는지)\n",
    "    - Timestep_size: 한번에 Word가 들어갈 갯수. 여기서는 최대 Sequence Length.\n",
    "    - Embedding Size: Word vector의 Embedding크기 (Vector Space 크기)\n",
    "    - Class Num: 구분해야 할 Class의 갯수 (여기서는 True/False로 지정)\n",
    "    - Hidden Size: LSTM의 Hidden Size\n",
    "    - Layer Num: LSTM의 Layer개수\n",
    "    - Max Grad Norm: Gradient의 최대값 (이 이상으로 올라가지 않음)"
   ]
  },
  {
   "cell_type": "code",
   "execution_count": 24,
   "metadata": {},
   "outputs": [],
   "source": [
    "### Hyperparameter configuration ###\n",
    "decay = 0.85\n",
    "max_epoch = 5\n",
    "max_max_epoch = 6\n",
    "timestep_size = max_len    # Sentence length\n",
    "vocab_size = len(vocabs)    # Number of words in samples, varies on execution time\n",
    "input_size = embedding_size = 64\n",
    "class_num = 2\n",
    "hidden_size = 128    # Hidden Layer Node\n",
    "layer_num = 2    # Number of Bi-LSTM Layers\n",
    "max_grad_norm = 5.0    # Maximum gradient"
   ]
  },
  {
   "cell_type": "markdown",
   "metadata": {},
   "source": [
    "- Learning_rate와 Dropout Layer에서의 정보유지비율을 지정합니다.\n",
    "- 모델의 저장 경로를 지정합니다."
   ]
  },
  {
   "cell_type": "code",
   "execution_count": 25,
   "metadata": {},
   "outputs": [],
   "source": [
    "lr = tf.placeholder(tf.float32, [])\n",
    "keep_prob = tf.placeholder(tf.float32, [])\n",
    "batch_size = tf.placeholder(tf.int32, [])    # Should be tf.int32 type\n",
    "model_save_path = 'ckpt/Bi-LSTM.ckpt'    # Model Save Path"
   ]
  },
  {
   "cell_type": "markdown",
   "metadata": {},
   "source": [
    "- Word Embedding: Vocab Size x Embedding Size의 Matrix를 만듭니다."
   ]
  },
  {
   "cell_type": "code",
   "execution_count": 26,
   "metadata": {},
   "outputs": [],
   "source": [
    "with tf.variable_scope('embedding'):\n",
    "    embedding = tf.get_variable(\"embedding\", [vocab_size, embedding_size], dtype=tf.float32)"
   ]
  },
  {
   "cell_type": "markdown",
   "metadata": {},
   "source": [
    "- Output Layer(Softmax)의 Weight, Bias를 구성합니다. "
   ]
  },
  {
   "cell_type": "code",
   "execution_count": 27,
   "metadata": {},
   "outputs": [],
   "source": [
    "def weight_variable(shape):\n",
    "    # Create a weight variable with appropriate initialization.\n",
    "    initial = tf.truncated_normal(shape, stddev=0.1)\n",
    "    return tf.Variable(initial)"
   ]
  },
  {
   "cell_type": "code",
   "execution_count": 28,
   "metadata": {},
   "outputs": [],
   "source": [
    "def bias_variable(shape):\n",
    "    # Create a bias variable with appropriate initialization.\n",
    "    initial = tf.constant(0.1, shape=shape)\n",
    "    return tf.Variable(initial)"
   ]
  },
  {
   "cell_type": "markdown",
   "metadata": {},
   "source": [
    "- Bi-directional LSTM의 구성을 위해 기본 LSTM Cell의 생성합니다.\n",
    "- Bi-directional LSTM은 Forward Cell과 Backward Cell로 구성되어 있습니다.\n",
    "- 각 Cell(Forward, Backward)은 Hidden Size만큼을 가지며, 실제로는 Hidden Size * 2만큼의 모델이 만들어지게 됩니다.\n",
    "- 여기서 Output은 확률값을 기준으로 출력됩니다."
   ]
  },
  {
   "cell_type": "code",
   "execution_count": 29,
   "metadata": {},
   "outputs": [],
   "source": [
    "def lstm_cell():\n",
    "    cell = rnn.LSTMCell(hidden_size, reuse=tf.get_variable_scope().reuse)\n",
    "    return rnn.DropoutWrapper(cell, output_keep_prob=keep_prob)"
   ]
  },
  {
   "cell_type": "code",
   "execution_count": 30,
   "metadata": {},
   "outputs": [],
   "source": [
    "def bi_lstm(X_inputs):\n",
    "    # Build the bi-LSTM Network.\n",
    "    # Return the y_pred\n",
    "    \n",
    "    # X_inputs.shape = [batch_size, timestep_size] -> inputs.shape = [batch_size, timestep_size, embedding_size]\n",
    "    inputs = tf.nn.embedding_lookup(embedding, X_inputs)\n",
    "    \n",
    "    # 1) Forward and Backward Layer for LSTM\n",
    "    cell_fw = rnn.MultiRNNCell([lstm_cell() for _ in range(layer_num)], state_is_tuple=True)\n",
    "    cell_bw = rnn.MultiRNNCell([lstm_cell() for _ in range(layer_num)], state_is_tuple=True)\n",
    "    \n",
    "    # 2) Initialize\n",
    "    initial_state_fw = cell_fw.zero_state(batch_size, tf.float32)\n",
    "    initial_state_bw = cell_bw.zero_state(batch_size, tf.float32)\n",
    "    \n",
    "    # 3) Calculate Bi-LSTM (Extension)\n",
    "    with tf.variable_scope('bidirectional_rnn'):\n",
    "        # Both networks calculats outputs and staes seperately.\n",
    "        \n",
    "        # Forward\n",
    "        outputs_fw = list()\n",
    "        state_fw = initial_state_fw\n",
    "        with tf.variable_scope('fw') as fw_scope:\n",
    "            for timestep in range(timestep_size):\n",
    "                if timestep > 0:\n",
    "                    tf.get_variable_scope().reuse_variables()\n",
    "                (output_fw, state_fw) = cell_fw(inputs[:, timestep, :], state_fw)\n",
    "                outputs_fw.append(output_fw)\n",
    "                \n",
    "        # Backward\n",
    "        outputs_bw = list()\n",
    "        state_bw = initial_state_bw\n",
    "        with tf.variable_scope('bw') as bw_scope:\n",
    "            inputs = tf.reverse(inputs, [1])\n",
    "            for timestep in range(timestep_size):\n",
    "                if timestep > 0:\n",
    "                    tf.get_variable_scope().reuse_variables()\n",
    "                (output_bw, state_bw) = cell_bw(inputs[:, timestep, :], state_bw)\n",
    "                outputs_bw.append(output_bw)\n",
    "                \n",
    "        # Then, send output_bw to next timestep.\n",
    "        # outputs_bw.shape = [timestep_size, batch_size, hidden_size]\n",
    "        outputs_bw = tf.reverse(outputs_bw, [0])\n",
    "        \n",
    "        # Concatenate both outputs\n",
    "        output = tf.concat([outputs_fw, outputs_bw], 2)\n",
    "        output = tf.transpose(output, perm=[1, 0, 2])\n",
    "        output = tf.reshape(output, [-1, hidden_size*2])\n",
    "        \n",
    "    return output    # [-1, hidden_size*2]"
   ]
  },
  {
   "cell_type": "markdown",
   "metadata": {},
   "source": [
    "- Input과 Output에 대한 Model을 지정합니다.\n",
    "- Output은 Softmax Layer이며, Weight와 Bias를 가집니다."
   ]
  },
  {
   "cell_type": "code",
   "execution_count": 31,
   "metadata": {},
   "outputs": [],
   "source": [
    "with tf.variable_scope('Inputs'):\n",
    "    X_inputs = tf.placeholder(tf.int32, [None, timestep_size], name='X_input')\n",
    "    Y_inputs = tf.placeholder(tf.int32, [None, timestep_size], name='Y_Input')\n",
    "    \n",
    "bi_lstm_output = bi_lstm(X_inputs)"
   ]
  },
  {
   "cell_type": "code",
   "execution_count": 32,
   "metadata": {},
   "outputs": [],
   "source": [
    "with tf.variable_scope('outputs'):\n",
    "    softmax_w = weight_variable([hidden_size * 2, class_num])\n",
    "    softmax_b = bias_variable([class_num])\n",
    "    y_pred = tf.matmul(bi_lstm_output, softmax_w) + softmax_b"
   ]
  },
  {
   "cell_type": "markdown",
   "metadata": {},
   "source": [
    "- 예측을 위해 Accuracy(정답률)와 Cost(또는 Loss)를 계산합니다."
   ]
  },
  {
   "cell_type": "code",
   "execution_count": 33,
   "metadata": {},
   "outputs": [],
   "source": [
    "# Adding extra statistics to monitor (Tensorboard)\n",
    "# Y_inputs.shape = [batch_size, timestep_size]\n",
    "correct_prediction = tf.equal(tf.cast(tf.argmax(y_pred, 1), tf.int32),\n",
    "                              tf.reshape(Y_inputs, [-1]))\n",
    "accuracy = tf.reduce_mean(tf.cast(correct_prediction, tf.float32))\n",
    "cost = tf.reduce_mean(tf.nn.sparse_softmax_cross_entropy_with_logits(\n",
    "    labels = tf.reshape(Y_inputs, [-1]),\n",
    "    logits = y_pred))"
   ]
  },
  {
   "cell_type": "markdown",
   "metadata": {},
   "source": [
    "- Optimizer는 Adam을 사용합니다.\n",
    "- tvars는 batch training을 위해 사용되었습니다."
   ]
  },
  {
   "cell_type": "code",
   "execution_count": 34,
   "metadata": {},
   "outputs": [],
   "source": [
    "# Optimization\n",
    "tvars = tf.trainable_variables()    # Import every variables in model\n",
    "grads, _ = tf.clip_by_global_norm(    # Import loss function for every gradient\n",
    "    tf.gradients(cost, tvars), max_grad_norm)\n",
    "optimizer = tf.train.AdamOptimizer(learning_rate=lr)"
   ]
  },
  {
   "cell_type": "code",
   "execution_count": 35,
   "metadata": {},
   "outputs": [
    {
     "name": "stdout",
     "output_type": "stream",
     "text": [
      "Finished creating the bi-LSTM model.\n"
     ]
    }
   ],
   "source": [
    "# Calculate Gradient Descent\n",
    "train_op = optimizer.apply_gradients(zip(grads, tvars),\n",
    "                global_step = tf.train.get_or_create_global_step())\n",
    "\n",
    "print(\"Finished creating the bi-LSTM model.\")"
   ]
  },
  {
   "cell_type": "markdown",
   "metadata": {},
   "source": [
    "## Training Model"
   ]
  },
  {
   "cell_type": "markdown",
   "metadata": {},
   "source": [
    "- 학습을 진행합니다."
   ]
  },
  {
   "cell_type": "code",
   "execution_count": 36,
   "metadata": {},
   "outputs": [],
   "source": [
    "def test_epoch(dataset):\n",
    "    # Testing or valid purpose\n",
    "    _batch_size = 500\n",
    "    fetches = [accuracy, cost]\n",
    "    _y = dataset.Y\n",
    "    data_size = _y.shape[0]\n",
    "    batch_num = int(data_size / _batch_size)\n",
    "    start_time = time.time()\n",
    "    _costs = 0.0\n",
    "    _accs = 0.0\n",
    "    \n",
    "    for i in range(batch_num):\n",
    "        X_batch, Y_batch = dataset.next_batch(_batch_size)\n",
    "        feed_dict = {X_inputs: X_batch,\n",
    "                     Y_inputs: Y_batch,\n",
    "                     lr: 1e-5,\n",
    "                     batch_size: _batch_size,\n",
    "                     keep_prob: 1.0}\n",
    "        _acc, _cost = sess.run(fetches, feed_dict)\n",
    "        _accs += _acc\n",
    "        _costs += _cost\n",
    "    \n",
    "    mean_acc = _accs / batch_num\n",
    "    mean_cost = _costs / batch_num\n",
    "    \n",
    "    return mean_acc, mean_cost"
   ]
  },
  {
   "cell_type": "code",
   "execution_count": 37,
   "metadata": {},
   "outputs": [],
   "source": [
    "sess.run(tf.global_variables_initializer())\n",
    "tr_batch_size = 128\n",
    "max_max_epoch = 6\n",
    "display_num = 5    # Number of result displays on every epoch\n",
    "tr_batch_num = int(data_train.Y.shape[0] / tr_batch_size)\n",
    "display_batch = int(tr_batch_num / display_num)\n",
    "saver = tf.train.Saver(max_to_keep=10)"
   ]
  },
  {
   "cell_type": "code",
   "execution_count": 38,
   "metadata": {},
   "outputs": [
    {
     "name": "stdout",
     "output_type": "stream",
     "text": [
      "Epoch 1, lr=0.0001\n",
      "\tTraining Acc=0.895908, Cost=0.671695, Valid Acc=0.913429, Cost=0.642453\n",
      "\tTraining Acc=0.910863, Cost=0.596488, Valid Acc=0.913429, Cost=0.520359\n",
      "\tTraining Acc=0.911101, Cost=0.412567, Valid Acc=0.913429, Cost=0.292739\n",
      "\tTraining Acc=0.910015, Cost=0.257622, Valid Acc=0.913429, Cost=0.226166\n",
      "\tTraining Acc=0.912857, Cost=0.225291, Valid Acc=0.913429, Cost=0.228312\n",
      "\tTraining 10200, Acc=0.908239, Cost=0.422373\n",
      "Epoch training 10200, Acc=0.908239, Cost=0.422373, Speed=15.5614 sec/epoch\n",
      "\n",
      "Epoch 2, lr=0.0001\n",
      "\tTraining Acc=0.912098, Cost=0.226778, Valid Acc=0.913429, Cost=0.226745\n",
      "\tTraining Acc=0.911548, Cost=0.2286, Valid Acc=0.913429, Cost=0.225301\n",
      "\tTraining Acc=0.912411, Cost=0.224661, Valid Acc=0.913429, Cost=0.224609\n",
      "\tTraining Acc=0.911443, Cost=0.226816, Valid Acc=0.913429, Cost=0.224169\n",
      "\tTraining Acc=0.909092, Cost=0.229908, Valid Acc=0.913429, Cost=0.223737\n",
      "\tTraining 10200, Acc=0.911096, Cost=0.227634\n",
      "Epoch training 10200, Acc=0.911096, Cost=0.227634, Speed=7.69748 sec/epoch\n",
      "\n",
      "Epoch 3, lr=0.0001\n",
      "\tTraining Acc=0.912455, Cost=0.222531, Valid Acc=0.913429, Cost=0.223078\n",
      "\tTraining Acc=0.910372, Cost=0.225221, Valid Acc=0.913429, Cost=0.222533\n",
      "\tTraining Acc=0.910417, Cost=0.224215, Valid Acc=0.913429, Cost=0.221897\n",
      "\tTraining Acc=0.909182, Cost=0.224388, Valid Acc=0.913429, Cost=0.22116\n",
      "\tTraining Acc=0.911042, Cost=0.222181, Valid Acc=0.913429, Cost=0.22027\n",
      "The save path is ckpt/Bi-LSTM.ckpt-3\n",
      "\tTraining 10200, Acc=0.911039, Cost=0.222978\n",
      "Epoch training 10200, Acc=0.911039, Cost=0.222978, Speed=8.9554 sec/epoch\n",
      "\n",
      "Epoch 4, lr=0.0001\n",
      "\tTraining Acc=0.911399, Cost=0.218344, Valid Acc=0.913429, Cost=0.219345\n",
      "\tTraining Acc=0.911875, Cost=0.216009, Valid Acc=0.913429, Cost=0.218563\n",
      "\tTraining Acc=0.91192, Cost=0.214079, Valid Acc=0.913429, Cost=0.218314\n",
      "\tTraining Acc=0.911815, Cost=0.214372, Valid Acc=0.913429, Cost=0.217259\n",
      "\tTraining Acc=0.908661, Cost=0.218549, Valid Acc=0.913429, Cost=0.216617\n",
      "\tTraining 10200, Acc=0.911036, Cost=0.2161\n",
      "Epoch training 10200, Acc=0.911036, Cost=0.2161, Speed=7.82581 sec/epoch\n",
      "\n",
      "Epoch 5, lr=0.0001\n",
      "\tTraining Acc=0.906905, Cost=0.215472, Valid Acc=0.913429, Cost=0.217672\n",
      "\tTraining Acc=0.910149, Cost=0.20883, Valid Acc=0.913429, Cost=0.218071\n",
      "\tTraining Acc=0.911042, Cost=0.208869, Valid Acc=0.913429, Cost=0.217076\n",
      "\tTraining Acc=0.91308, Cost=0.20436, Valid Acc=0.913429, Cost=0.216378\n",
      "\tTraining Acc=0.913586, Cost=0.204234, Valid Acc=0.913429, Cost=0.21704\n",
      "\tTraining 10200, Acc=0.911056, Cost=0.208247\n",
      "Epoch training 10200, Acc=0.911056, Cost=0.208247, Speed=7.80777 sec/epoch\n",
      "\n",
      "Epoch 6, lr=0.0001\n",
      "\tTraining Acc=0.911696, Cost=0.200943, Valid Acc=0.913429, Cost=0.218555\n",
      "\tTraining Acc=0.910848, Cost=0.202339, Valid Acc=0.913429, Cost=0.219117\n",
      "\tTraining Acc=0.910714, Cost=0.201933, Valid Acc=0.913429, Cost=0.220759\n",
      "\tTraining Acc=0.910342, Cost=0.202526, Valid Acc=0.9134, Cost=0.21802\n",
      "\tTraining Acc=0.910699, Cost=0.201078, Valid Acc=0.913429, Cost=0.21873\n",
      "The save path is ckpt/Bi-LSTM.ckpt-6\n",
      "\tTraining 10200, Acc=0.911051, Cost=0.201489\n",
      "Epoch training 10200, Acc=0.911051, Cost=0.201489, Speed=8.72224 sec/epoch\n",
      "\n",
      "*** TEST RESULT:\n",
      "*** Test 3400, Acc=0.911676, Cost=0.221244\n"
     ]
    }
   ],
   "source": [
    "for epoch in range(max_max_epoch):\n",
    "    _lr = 1e-4\n",
    "    if epoch > max_epoch:\n",
    "        _lr = _lr * ((decay) ** (epoch - max_epoch))\n",
    "    print(\"Epoch %d, lr=%g\" % (epoch+1, _lr))\n",
    "    start_time = time.time()\n",
    "    _costs = 0.0\n",
    "    _accs = 0.0\n",
    "    show_accs = 0.0\n",
    "    show_costs = 0.0\n",
    "    \n",
    "    for batch in range(tr_batch_num):\n",
    "        fetches = [accuracy, cost, train_op]\n",
    "        X_batch, Y_batch = data_train.next_batch(tr_batch_size)\n",
    "        feed_dict = {X_inputs: X_batch,\n",
    "                    Y_inputs: Y_batch,\n",
    "                    lr: _lr,\n",
    "                    batch_size: tr_batch_size,\n",
    "                    keep_prob: 0.5}\n",
    "        _acc, _cost, _ = sess.run(fetches, feed_dict)    # The cost is the man cost of one batch\n",
    "        _accs += _acc\n",
    "        _costs += _cost\n",
    "        show_accs += _acc\n",
    "        show_costs += _cost\n",
    "        \n",
    "        if (batch + 1) % display_batch == 0:\n",
    "            valid_acc, valid_cost = test_epoch(data_valid)    # valid\n",
    "            print(\"\\tTraining Acc=%g, Cost=%g, Valid Acc=%g, Cost=%g\" % \\\n",
    "                 (show_accs / display_batch,\n",
    "                 show_costs / display_batch,\n",
    "                 valid_acc,\n",
    "                 valid_cost))\n",
    "            show_accs = 0.0\n",
    "            show_costs = 0.0\n",
    "    mean_acc = _accs / tr_batch_num\n",
    "    mean_cost = _costs / tr_batch_num\n",
    "    if (epoch + 1) % 3 == 0:    # Save model on every 3 epochs\n",
    "        save_path = saver.save(sess, model_save_path, global_step=(epoch + 1))\n",
    "        print(\"The save path is\", save_path)\n",
    "    print(\"\\tTraining %d, Acc=%g, Cost=%g\" % (data_train.Y.shape[0],\n",
    "                                             mean_acc,\n",
    "                                             mean_cost))\n",
    "    print(\"Epoch training %d, Acc=%g, Cost=%g, Speed=%g sec/epoch\\n\" % (data_train.Y.shape[0],\n",
    "                                                                   mean_acc,\n",
    "                                                                       mean_cost,\n",
    "                                                                       time.time() - start_time))\n",
    "print(\"*** TEST RESULT:\")\n",
    "test_acc, test_cost = test_epoch(data_test)\n",
    "print(\"*** Test %d, Acc=%g, Cost=%g\" % (data_test.Y.shape[0],\n",
    "                                      test_acc,\n",
    "                                      test_cost))"
   ]
  },
  {
   "cell_type": "markdown",
   "metadata": {},
   "source": [
    "최종적으로 약 __91%__의 정확도를 보이는 것을 확인할 수 있습니다."
   ]
  },
  {
   "cell_type": "code",
   "execution_count": 39,
   "metadata": {},
   "outputs": [
    {
     "name": "stdout",
     "output_type": "stream",
     "text": [
      "INFO:tensorflow:Restoring parameters from ckpt/Bi-LSTM.ckpt-6\n",
      "Wall time: 419 ms\n"
     ]
    }
   ],
   "source": [
    "# Load Model\n",
    "saver = tf.train.Saver()\n",
    "best_model_path = 'ckpt/Bi-LSTM.ckpt-6'\n",
    "%time saver.restore(sess, best_model_path)"
   ]
  },
  {
   "cell_type": "markdown",
   "metadata": {},
   "source": [
    "- 학습의 경과 확인을 위해 Output과 Input의 Shape를 확인해봅니다."
   ]
  },
  {
   "cell_type": "code",
   "execution_count": 40,
   "metadata": {},
   "outputs": [
    {
     "name": "stdout",
     "output_type": "stream",
     "text": [
      "X_tt.shape= (2, 35) Y_tt.shape= (2, 35)\n",
      "X_tt = [[    0     0     0     0     0     0     0     0     0     0     0     0\n",
      "      0     0     0     0     0     0     0     0     0     0  5349 19788\n",
      "  28078   779 14555  8548  7438   779  6052 14555  3379 16911   793]\n",
      " [    0     0     0     0     0     0     0     0     0     0     0     0\n",
      "      0     0     0     0     0     0     0     0     0     0     0  1863\n",
      "  17860 26441  6610 24160  7579   102 24160 23484 16960 22422  3218]]\n",
      "Y_tt = [[0 0 0 0 0 0 0 0 0 0 0 0 0 0 0 0 0 0 0 0 0 0 0 1 0 0 0 1 1 0 0 0 0 0 0]\n",
      " [0 0 0 0 0 0 0 0 0 0 0 0 0 0 0 0 0 0 0 0 0 0 0 0 0 0 1 1 0 0 0 1 0 0 0]]\n"
     ]
    }
   ],
   "source": [
    "# Model output check\n",
    "X_tt, Y_tt = data_train.next_batch(2)\n",
    "print(\"X_tt.shape=\", X_tt.shape, 'Y_tt.shape=', Y_tt.shape)\n",
    "print(\"X_tt =\", X_tt)\n",
    "print(\"Y_tt =\", Y_tt)"
   ]
  },
  {
   "cell_type": "markdown",
   "metadata": {},
   "source": [
    "- 일반 문장의 처리를 위한 함수 제작\n",
    "    - text_2_idx: 문장을 Index숫자로 변경\n",
    "    - extract_op: 학습모델을 이용하여 opinion 단어의 Index를 찾는다."
   ]
  },
  {
   "cell_type": "code",
   "execution_count": 41,
   "metadata": {},
   "outputs": [],
   "source": [
    "def text_2_idx(text):\n",
    "    twitter = Twitter()\n",
    "    words = twitter.morphs(text)    # Konlpy의 형태소 Morph를 사용\n",
    "    # words = sequence.pad_sequences(words, value=0.)\n",
    "    ids = []\n",
    "    for item in words:\n",
    "        if vocab_ids.get(item) is None:\n",
    "            ids.append(0)\n",
    "        else:\n",
    "            ids.append(vocab_ids[item])\n",
    "    if len(ids) > max_len:\n",
    "        print(\"Cannot process text longer than %d.\" % max_len)\n",
    "        return ids[:max_len]\n",
    "    ids = sequence.pad_sequences([ids], maxlen=35, value=0.)    # Padding\n",
    "    ids = np.asarray(ids).reshape([-1, max_len])\n",
    "    return ids"
   ]
  },
  {
   "cell_type": "code",
   "execution_count": 42,
   "metadata": {},
   "outputs": [],
   "source": [
    "def extract_op(text):\n",
    "    if text:\n",
    "        text_len = len(text)\n",
    "        X_batch = text_2_idx(text)\n",
    "        fetches = [y_pred]\n",
    "        feed_dict = {X_inputs: X_batch,\n",
    "                    lr: 1.0,\n",
    "                    batch_size: 1,\n",
    "                    keep_prob: 1.0}\n",
    "        \n",
    "        # Longer than 35th word will be removed\n",
    "        _y_pred = sess.run(fetches, feed_dict)\n",
    "        predict = _y_pred\n",
    "        index = []\n",
    "        for item in predict:\n",
    "            result = np.argmax(item, axis=1)\n",
    "        result = np.where(result == 1)[0]\n",
    "        return result\n",
    "    \n",
    "    else:\n",
    "        return []"
   ]
  },
  {
   "cell_type": "code",
   "execution_count": 43,
   "metadata": {},
   "outputs": [
    {
     "name": "stdout",
     "output_type": "stream",
     "text": [
      "[]\n"
     ]
    }
   ],
   "source": [
    "sentence = \"( 구매 ) [PUMA] 13'Summer DRYCELL 남성 반팔 티셔츠 3 종 넘 잘 구매한 것 같아요 . 디자인도 예쁘고 .\"\n",
    "\n",
    "print(extract_op(sentence))    # Opinion이 없다는 결과를 보임"
   ]
  },
  {
   "cell_type": "markdown",
   "metadata": {},
   "source": [
    "### __특이사항__\n",
    "- Vocab 추출 후 확인 결과, 동일한 단어에 대하여 의견인 경우와 아닌 경우가 혼재\n",
    "- 따라서 Sequence에 따라서 의견인지 아닌지의 여부를 확인할 필요가 있습니다."
   ]
  },
  {
   "cell_type": "markdown",
   "metadata": {},
   "source": [
    "### __어려웠던 부분 / 해결 미흡한 부분__\n",
    "- Validation Accuray가 고정되어 나오는 점을 Debug하기 힘들었던 점\n",
    "- extract_op함수의 작동이 원활하지 않았던 점 (Prediction)"
   ]
  },
  {
   "cell_type": "markdown",
   "metadata": {},
   "source": [
    "# __문제 2__ - 결과물 산출"
   ]
  },
  {
   "cell_type": "markdown",
   "metadata": {},
   "source": [
    "### __[특이사항]__\n",
    "- Elasticsearch에 대한 경험이 없으므로, 찾고자 하는 자료를 검출하는 방식으로 제작했습니다."
   ]
  },
  {
   "cell_type": "markdown",
   "metadata": {},
   "source": [
    "### __Dataset 불러오기__\n",
    "- Scikit-learn 형식의 데이터\n",
    "- 따라서 Scikit-learn모듈을 통해 데이터를 불러옵니다."
   ]
  },
  {
   "cell_type": "code",
   "execution_count": 44,
   "metadata": {},
   "outputs": [],
   "source": [
    "from sklearn.externals import joblib\n",
    "\n",
    "path = 'problem_2/'\n",
    "file = 'goods_list_sample.dat'\n",
    "target = path + file\n",
    "\n",
    "goods_list_sample = joblib.load(target)"
   ]
  },
  {
   "cell_type": "markdown",
   "metadata": {},
   "source": [
    "- 데이터 총 개수 확인"
   ]
  },
  {
   "cell_type": "code",
   "execution_count": 45,
   "metadata": {},
   "outputs": [
    {
     "data": {
      "text/plain": [
       "10000"
      ]
     },
     "execution_count": 45,
     "metadata": {},
     "output_type": "execute_result"
    }
   ],
   "source": [
    "len(goods_list_sample)"
   ]
  },
  {
   "cell_type": "markdown",
   "metadata": {},
   "source": [
    "- 데이터의 구성 확인"
   ]
  },
  {
   "cell_type": "code",
   "execution_count": 46,
   "metadata": {},
   "outputs": [
    {
     "data": {
      "text/plain": [
       "{'cate1': '(eTV_비노출)',\n",
       " 'cate2': '비노출 카테고리',\n",
       " 'cate3': '비노출 카테고리',\n",
       " 'clickct': 32,\n",
       " 'img': 'http://image2.lotteimall.com/goods/77/63/53/12536377_1.jpg',\n",
       " 'name': '[KB국민카드5%][롯데홈쇼핑][마마인하우스BY박홍근][마마인하우스by박홍근][K]울트라 라이트 나노플란넬 침구 풀세트',\n",
       " 'pid': '12536377',\n",
       " 'query_click': '박홍근울트라나노=33&박홍근침구세트마이크로=2&박홍근침라이트나노플란넬=87',\n",
       " 'review_num': 851,\n",
       " 'review_rate': 0,\n",
       " 'site_name': 'lotteimall'}"
      ]
     },
     "execution_count": 46,
     "metadata": {},
     "output_type": "execute_result"
    }
   ],
   "source": [
    "# 이중 pid와 site_name을 이용하여 검색\n",
    "goods_list_sample[0]"
   ]
  },
  {
   "cell_type": "markdown",
   "metadata": {},
   "source": [
    "위 Output의 확인 결과 다음과 같은 데이터의 형태를 가지는 것으로 예상됩니다.\n",
    "- cate1: String\n",
    "- cate2: String\n",
    "- cate3: String\n",
    "- clickct: int\n",
    "- img: String\n",
    "- name: String\n",
    "- pid: int\n",
    "- query_click: String\n",
    "- review_num: int\n",
    "-  review_rate: int\n",
    "- site_name: string"
   ]
  },
  {
   "cell_type": "markdown",
   "metadata": {},
   "source": [
    "- 찾고자 하는 데이터를 불러옵니다. (리뷰 목록)"
   ]
  },
  {
   "cell_type": "code",
   "execution_count": 47,
   "metadata": {},
   "outputs": [],
   "source": [
    "file = 'goods_review.txt'\n",
    "target = path + file\n",
    "\n",
    "with codecs.open(target, 'rb', encoding='utf-8') as f:\n",
    "    goods_reviews = f.readlines()"
   ]
  },
  {
   "cell_type": "markdown",
   "metadata": {},
   "source": [
    "- 불러온 데이터의 확인"
   ]
  },
  {
   "cell_type": "code",
   "execution_count": 48,
   "metadata": {},
   "outputs": [
    {
     "data": {
      "text/plain": [
       "'gsshop_10000407||좋네요. 편하게 밀려요. 견고함이 좀 떨어집니다;반죽을 얇게 밀때 손목이 무리가 가지 않아요~ 길이도 넉넉하고 힘도 잘 전달되는 듯;가나다가나다가나다가나다가나다가나다가나\\n'"
      ]
     },
     "execution_count": 48,
     "metadata": {},
     "output_type": "execute_result"
    }
   ],
   "source": [
    "goods_reviews[1]"
   ]
  },
  {
   "cell_type": "markdown",
   "metadata": {},
   "source": [
    "- 불러온 샘플 목록 데이터 중 site_name과 pid를 통해 데이터를 찾습니다."
   ]
  },
  {
   "cell_type": "code",
   "execution_count": 49,
   "metadata": {},
   "outputs": [],
   "source": [
    "item_target = [item['site_name'] + '_' + item['pid'] \\\n",
    "            for item in goods_list_sample]"
   ]
  },
  {
   "cell_type": "markdown",
   "metadata": {},
   "source": [
    "### Indexing\n",
    "- Indexing을 위해 리뷰 데이터를 Key와 Value값으로 분리하여 Dictionary형태로 저장합니다.\n",
    "- Key값이 아닌 Review만 가진 데이터도 있습니다.\n",
    "    - 확인 결과, 전 Review에서 이어지는 데이터입니다.\n",
    "    - 따라서 Key값이 없는 경우, 전 Review에서의 Concatenate를 통해 데이터를 구축합니다."
   ]
  },
  {
   "cell_type": "code",
   "execution_count": 50,
   "metadata": {},
   "outputs": [],
   "source": [
    "# item_id = [item.split('||')[0] for item in goods_reviews]\n",
    "# item_review = [item.split('||')[1].strip().split(\";\") \\\n",
    "#                for item in goods_reviews]\n",
    "item_dict = dict()\n",
    "temp = 0\n",
    "for i, item in enumerate(goods_reviews):\n",
    "    item = item.split(\"||\")\n",
    "    if len(item) == 2:\n",
    "        temp = i\n",
    "        index = item[0]\n",
    "        review = item[1].strip().split(\";\")\n",
    "        item_dict[index] = review\n",
    "    else:\n",
    "        index = goods_reviews[temp].split(\"||\")[0]\n",
    "        prev_review = item_dict[index]\n",
    "        review = item[0].strip().split(\";\")\n",
    "        item_dict[index] = prev_review + review"
   ]
  },
  {
   "cell_type": "markdown",
   "metadata": {},
   "source": [
    "- 제작된 Indexing Dictionary의 전체 개수 확인"
   ]
  },
  {
   "cell_type": "code",
   "execution_count": 51,
   "metadata": {},
   "outputs": [
    {
     "data": {
      "text/plain": [
       "15717"
      ]
     },
     "execution_count": 51,
     "metadata": {},
     "output_type": "execute_result"
    }
   ],
   "source": [
    "len(item_dict)"
   ]
  },
  {
   "cell_type": "markdown",
   "metadata": {},
   "source": [
    "- 리뷰 데이터 전체의 개수 (Key값 존재함/안함 모두)"
   ]
  },
  {
   "cell_type": "code",
   "execution_count": 52,
   "metadata": {},
   "outputs": [
    {
     "data": {
      "text/plain": [
       "27424"
      ]
     },
     "execution_count": 52,
     "metadata": {},
     "output_type": "execute_result"
    }
   ],
   "source": [
    "len(goods_reviews)"
   ]
  },
  {
   "cell_type": "markdown",
   "metadata": {},
   "source": [
    "- 찾고자 하는 리뷰 데이터를 검색하기 위해 함수 제작"
   ]
  },
  {
   "cell_type": "code",
   "execution_count": 53,
   "metadata": {},
   "outputs": [],
   "source": [
    "def find_review(key):\n",
    "    return item_dict.get(key)"
   ]
  },
  {
   "cell_type": "code",
   "execution_count": 54,
   "metadata": {},
   "outputs": [],
   "source": [
    "key_list = []\n",
    "review_list = []\n",
    "for key in item_target:\n",
    "    review = find_review(key)\n",
    "    if review != None:\n",
    "        review_list.append(review)\n",
    "        key_list.append(key)"
   ]
  },
  {
   "cell_type": "markdown",
   "metadata": {},
   "source": [
    "- 리뷰가 존재하는 데이터의 총 개수 확인 및 체크"
   ]
  },
  {
   "cell_type": "code",
   "execution_count": 55,
   "metadata": {},
   "outputs": [
    {
     "data": {
      "text/plain": [
       "438"
      ]
     },
     "execution_count": 55,
     "metadata": {},
     "output_type": "execute_result"
    }
   ],
   "source": [
    "len(review_list)"
   ]
  },
  {
   "cell_type": "code",
   "execution_count": 57,
   "metadata": {},
   "outputs": [
    {
     "name": "stdout",
     "output_type": "stream",
     "text": [
      "['이쁘네요근데왠지비싸단생각입니다^^ㅎㅎ']\n"
     ]
    }
   ],
   "source": [
    "print(review_list[0])"
   ]
  },
  {
   "cell_type": "markdown",
   "metadata": {},
   "source": [
    "- 찾고자 하는 리뷰의 Key값 목록의 확인"
   ]
  },
  {
   "cell_type": "code",
   "execution_count": 56,
   "metadata": {},
   "outputs": [
    {
     "data": {
      "text/plain": [
       "['gsshop_11481061', 'gsshop_18536749', 'gsshop_11469872']"
      ]
     },
     "execution_count": 56,
     "metadata": {},
     "output_type": "execute_result"
    }
   ],
   "source": [
    "key_list[0:3]"
   ]
  },
  {
   "cell_type": "markdown",
   "metadata": {},
   "source": [
    "- Sample문장의 extract_op함수 테스트"
   ]
  },
  {
   "cell_type": "code",
   "execution_count": 65,
   "metadata": {},
   "outputs": [
    {
     "name": "stdout",
     "output_type": "stream",
     "text": [
      "이쁘네요근데왠지비싸단생각입니다^^ㅎㅎ\n",
      "[]\n"
     ]
    }
   ],
   "source": [
    "print(review_list[0][0])\n",
    "print(extract_op(review_list[0][0]))"
   ]
  },
  {
   "cell_type": "markdown",
   "metadata": {},
   "source": [
    "### __어려웠던 부분 / 해결 미흡한 부분__\n",
    "- extract_op함수의 작동문제로 인해 제대로 된 결과를 보기 어려웠던 점\n",
    "- Elasticsearch경험이 없는 관계로 Elasticsearch에서 검색이 가능하게 하는 방법을 만들지 못했던점\n",
    "- API페이지의 구분에 대한 이해가 부족했던점"
   ]
  },
  {
   "cell_type": "code",
   "execution_count": null,
   "metadata": {},
   "outputs": [],
   "source": []
  }
 ],
 "metadata": {
  "kernelspec": {
   "display_name": "Python 3",
   "language": "python",
   "name": "python3"
  },
  "language_info": {
   "codemirror_mode": {
    "name": "ipython",
    "version": 3
   },
   "file_extension": ".py",
   "mimetype": "text/x-python",
   "name": "python",
   "nbconvert_exporter": "python",
   "pygments_lexer": "ipython3",
   "version": "3.6.4"
  }
 },
 "nbformat": 4,
 "nbformat_minor": 2
}
